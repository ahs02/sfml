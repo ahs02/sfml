{
 "cells": [
  {
   "cell_type": "markdown",
   "metadata": {},
   "source": [
    "# Заполнение submit Вариант с нормированными столбцами"
   ]
  },
  {
   "cell_type": "code",
   "execution_count": 18,
   "metadata": {},
   "outputs": [],
   "source": [
    "import numpy as np\n",
    "import pandas as pd\n",
    "from sklearn.linear_model import LogisticRegression\n",
    "from sklearn.metrics import roc_auc_score\n",
    "from sklearn.model_selection import StratifiedKFold\n",
    "from sklearn.model_selection import cross_val_score\n",
    "from sklearn.model_selection import train_test_split\n",
    "import matplotlib.pyplot as plt\n",
    "import seaborn as sns\n",
    "#from sklearn.neighbors import KNeighborsClassifier\n",
    "\n",
    "%matplotlib inline"
   ]
  },
  {
   "cell_type": "code",
   "execution_count": 19,
   "metadata": {},
   "outputs": [
    {
     "name": "stdout",
     "output_type": "stream",
     "text": [
      "<class 'pandas.core.frame.DataFrame'>\n",
      "RangeIndex: 24712 entries, 0 to 24711\n",
      "Data columns (total 22 columns):\n",
      "_id               24712 non-null object\n",
      "age               24712 non-null int64\n",
      "job               24712 non-null object\n",
      "marital           24712 non-null object\n",
      "education         24712 non-null object\n",
      "default           24712 non-null object\n",
      "housing           24712 non-null object\n",
      "loan              24712 non-null object\n",
      "contact           24712 non-null object\n",
      "month             24712 non-null object\n",
      "day_of_week       24712 non-null object\n",
      "duration          24712 non-null int64\n",
      "campaign          24712 non-null int64\n",
      "pdays             24712 non-null int64\n",
      "previous          24712 non-null int64\n",
      "poutcome          24712 non-null object\n",
      "emp.var.rate      24712 non-null float64\n",
      "cons.price.idx    24712 non-null float64\n",
      "cons.conf.idx     24712 non-null float64\n",
      "euribor3m         24712 non-null float64\n",
      "nr.employed       24712 non-null float64\n",
      "target            24712 non-null int64\n",
      "dtypes: float64(5), int64(6), object(11)\n",
      "memory usage: 4.1+ MB\n"
     ]
    }
   ],
   "source": [
    "fl_train=pd.read_csv('HW/train.csv')\n",
    "fl_train.info()"
   ]
  },
  {
   "cell_type": "markdown",
   "metadata": {},
   "source": [
    "# Подготовка данных"
   ]
  },
  {
   "cell_type": "code",
   "execution_count": 20,
   "metadata": {},
   "outputs": [],
   "source": [
    "# Удаляем id И target\n",
    "train= fl_train.drop(['_id', 'target'], axis=1)\n",
    "y = fl_train.target"
   ]
  },
  {
   "cell_type": "code",
   "execution_count": 21,
   "metadata": {},
   "outputs": [],
   "source": [
    "num_list=train.select_dtypes(include=[np.number]).columns.tolist()"
   ]
  },
  {
   "cell_type": "code",
   "execution_count": 22,
   "metadata": {},
   "outputs": [],
   "source": [
    "# Так как в даной задаче мы имеем данные, на которых будет проверяться, то для логарифмов лучше сразу учесть диапазон.\n",
    "fl_test=pd.read_csv('HW/test.csv')\n",
    "test= fl_test.drop(['_id'], axis=1)"
   ]
  },
  {
   "cell_type": "code",
   "execution_count": 23,
   "metadata": {},
   "outputs": [
    {
     "data": {
      "text/plain": [
       "(40,)"
      ]
     },
     "execution_count": 23,
     "metadata": {},
     "output_type": "execute_result"
    }
   ],
   "source": [
    "# Расширим данные квадратами и логарифмами\n",
    "num_list_2=[]\n",
    "num_list_lg=[] \n",
    "a=2\n",
    "for i,col in enumerate(num_list) :\n",
    "\n",
    "    new_col=col + '_2'\n",
    "    train[new_col]=train[col].map(lambda x: x**a)\n",
    "    num_list_2.append(new_col)\n",
    "\n",
    "    new_col=col + '_lg'\n",
    "    x_min=min(train[col].min(),test[col].min())\n",
    "    train[new_col]=train[col].map(lambda x: np.log2(x-x_min+1))\n",
    "    num_list_lg.append(new_col)\n",
    "\n",
    "train.columns.shape"
   ]
  },
  {
   "cell_type": "code",
   "execution_count": 24,
   "metadata": {},
   "outputs": [],
   "source": [
    "# Отнормируем числовый столбцы. Запомним метрики, чтобы тестовый файл потом нормировать теми же величинами\n",
    "\n",
    "num_metrics=pd.DataFrame(columns=['col','mean','std'])\n",
    "for i,col in enumerate(num_list+num_list_2+num_list_lg) :\n",
    "\n",
    "    mean=train[col].mean()\n",
    "    std=train[col].std()\n",
    "    num_metrics.loc[i]=[col,mean,std]\n",
    "\n",
    "    train[col]=train[col].map(lambda x : (x-mean)/std)\n",
    "\n",
    "#num_metrics"
   ]
  },
  {
   "cell_type": "code",
   "execution_count": 25,
   "metadata": {},
   "outputs": [],
   "source": [
    "# Ванинкодим по чёрному\n",
    "train=pd.get_dummies(train)"
   ]
  },
  {
   "cell_type": "code",
   "execution_count": 26,
   "metadata": {},
   "outputs": [],
   "source": [
    "# Дропнем все 'unknown', так как они однозначно определяется через остальные колонки\n",
    "for i in train.columns:\n",
    "    if 'unknown' in i:\n",
    "        train=train.drop(i, axis=1)"
   ]
  },
  {
   "cell_type": "markdown",
   "metadata": {},
   "source": [
    "# Обучение"
   ]
  },
  {
   "cell_type": "code",
   "execution_count": 27,
   "metadata": {},
   "outputs": [],
   "source": [
    "X_train=train\n",
    "y_train=y"
   ]
  },
  {
   "cell_type": "code",
   "execution_count": 28,
   "metadata": {},
   "outputs": [
    {
     "data": {
      "text/plain": [
       "LogisticRegression(C=1.0, class_weight=None, dual=False, fit_intercept=True,\n",
       "          intercept_scaling=1, max_iter=100, multi_class='ovr', n_jobs=1,\n",
       "          penalty='l1', random_state=None, solver='liblinear', tol=0.0001,\n",
       "          verbose=0, warm_start=False)"
      ]
     },
     "execution_count": 28,
     "metadata": {},
     "output_type": "execute_result"
    }
   ],
   "source": [
    "# Путём переборов определили, что самый хороший результата на LogisticRegression(penalty='l1')\n",
    "lr = LogisticRegression(penalty='l1')\n",
    "lr.fit(X_train, y_train)"
   ]
  },
  {
   "cell_type": "markdown",
   "metadata": {},
   "source": [
    "# Проверка результата"
   ]
  },
  {
   "cell_type": "code",
   "execution_count": 29,
   "metadata": {},
   "outputs": [
    {
     "name": "stdout",
     "output_type": "stream",
     "text": [
      "Средний на кросс-валидации по 5 разбиениям train-файла\n",
      "lr 0.9387967082840657\n"
     ]
    }
   ],
   "source": [
    "a=5\n",
    "print('Средний на кросс-валидации по {} разбиениям train-файла'.format(a))\n",
    "cv = StratifiedKFold(n_splits=a, shuffle=True, random_state=15)\n",
    "cvc_lr=cross_val_score(lr, X_train, y_train, scoring='roc_auc', cv=cv.split(X_train, y_train) )\n",
    "print('lr', cvc_lr.mean())"
   ]
  },
  {
   "cell_type": "markdown",
   "metadata": {},
   "source": [
    "# Получаем данные на submit"
   ]
  },
  {
   "cell_type": "code",
   "execution_count": 30,
   "metadata": {},
   "outputs": [
    {
     "name": "stdout",
     "output_type": "stream",
     "text": [
      "<class 'pandas.core.frame.DataFrame'>\n",
      "RangeIndex: 16476 entries, 0 to 16475\n",
      "Data columns (total 21 columns):\n",
      "_id               16476 non-null object\n",
      "age               16476 non-null int64\n",
      "job               16476 non-null object\n",
      "marital           16476 non-null object\n",
      "education         16476 non-null object\n",
      "default           16476 non-null object\n",
      "housing           16476 non-null object\n",
      "loan              16476 non-null object\n",
      "contact           16476 non-null object\n",
      "month             16476 non-null object\n",
      "day_of_week       16476 non-null object\n",
      "duration          16476 non-null int64\n",
      "campaign          16476 non-null int64\n",
      "pdays             16476 non-null int64\n",
      "previous          16476 non-null int64\n",
      "poutcome          16476 non-null object\n",
      "emp.var.rate      16476 non-null float64\n",
      "cons.price.idx    16476 non-null float64\n",
      "cons.conf.idx     16476 non-null float64\n",
      "euribor3m         16476 non-null float64\n",
      "nr.employed       16476 non-null float64\n",
      "dtypes: float64(5), int64(5), object(11)\n",
      "memory usage: 2.6+ MB\n"
     ]
    }
   ],
   "source": [
    "fl_test=pd.read_csv('HW/test.csv')\n",
    "fl_test.info()"
   ]
  },
  {
   "cell_type": "markdown",
   "metadata": {},
   "source": [
    "# Чистим их также как в train"
   ]
  },
  {
   "cell_type": "code",
   "execution_count": 31,
   "metadata": {},
   "outputs": [],
   "source": [
    "# Удаляем id\n",
    "test= fl_test.drop(['_id'], axis=1)\n",
    "#test.columns.shape"
   ]
  },
  {
   "cell_type": "raw",
   "metadata": {},
   "source": [
    "num_list"
   ]
  },
  {
   "cell_type": "code",
   "execution_count": 32,
   "metadata": {},
   "outputs": [],
   "source": [
    "a=2\n",
    "for i,col in enumerate(num_list) :\n",
    "\n",
    "    new_col=col+'_2'\n",
    "    test[new_col]=test[col].map(lambda x: x**a)\n",
    "\n",
    "    new_col=col+'_lg'\n",
    "    x_min=min(test[col].min(),fl_train[col].min())\n",
    "    test[new_col]=test[col].map(lambda x: np.log2(x-x_min+1))\n",
    "#test.columns.shape"
   ]
  },
  {
   "cell_type": "code",
   "execution_count": 33,
   "metadata": {},
   "outputs": [],
   "source": [
    "# Отнормируем числовый столбцы (по метрикам, полученным на train)\n",
    "for i, col in enumerate(num_metrics.col):\n",
    "    if col in test.columns:\n",
    "        mean=num_metrics.loc[i,'mean']\n",
    "        std=num_metrics.loc[i,'std']\n",
    "        test[col]=test[col].map(lambda x : (x-mean)/std)"
   ]
  },
  {
   "cell_type": "code",
   "execution_count": 34,
   "metadata": {},
   "outputs": [
    {
     "data": {
      "text/plain": [
       "(83,)"
      ]
     },
     "execution_count": 34,
     "metadata": {},
     "output_type": "execute_result"
    }
   ],
   "source": [
    "test=pd.get_dummies(test)\n",
    "test.columns.shape"
   ]
  },
  {
   "cell_type": "code",
   "execution_count": 35,
   "metadata": {},
   "outputs": [],
   "source": [
    "# Дропнем все 'unknown', так как они однозначно определяется через остальные колонки\n",
    "for i in test.columns:\n",
    "    if 'unknown' in i:\n",
    "        test=test.drop(i, axis=1)"
   ]
  },
  {
   "cell_type": "code",
   "execution_count": 36,
   "metadata": {},
   "outputs": [],
   "source": [
    "y_subm=lr.predict_proba(test)[:,1]"
   ]
  },
  {
   "cell_type": "code",
   "execution_count": 37,
   "metadata": {},
   "outputs": [
    {
     "data": {
      "text/plain": [
       "(16476,)"
      ]
     },
     "execution_count": 37,
     "metadata": {},
     "output_type": "execute_result"
    }
   ],
   "source": [
    "np.shape(y_subm)"
   ]
  },
  {
   "cell_type": "code",
   "execution_count": 38,
   "metadata": {},
   "outputs": [],
   "source": [
    "fl_subm=pd.read_csv('HW/sample_submission.csv')"
   ]
  },
  {
   "cell_type": "raw",
   "metadata": {},
   "source": [
    "# Проверим, что id в test и submit совпадают\n",
    "is_noteq = 0\n",
    "is_eq = 0\n",
    "for i in range(len(y_subm)) :\n",
    "    if fl_subm._id.loc[i] != fl_test._id.loc[i] : is_noteq += 1\n",
    "    if fl_subm._id.loc[i] == fl_test._id.loc[i] : is_eq += 1\n",
    "is_noteq, is_eq"
   ]
  },
  {
   "cell_type": "code",
   "execution_count": 39,
   "metadata": {},
   "outputs": [],
   "source": [
    "fl_subm['target'] = y_subm"
   ]
  },
  {
   "cell_type": "code",
   "execution_count": 92,
   "metadata": {},
   "outputs": [],
   "source": [
    "new_submit_file='my_subm11.csv'\n",
    "fl_subm.to_csv(new_submit_file, index=False)"
   ]
  },
  {
   "cell_type": "code",
   "execution_count": 94,
   "metadata": {},
   "outputs": [
    {
     "data": {
      "text/html": [
       "<div>\n",
       "<style scoped>\n",
       "    .dataframe tbody tr th:only-of-type {\n",
       "        vertical-align: middle;\n",
       "    }\n",
       "\n",
       "    .dataframe tbody tr th {\n",
       "        vertical-align: top;\n",
       "    }\n",
       "\n",
       "    .dataframe thead th {\n",
       "        text-align: right;\n",
       "    }\n",
       "</style>\n",
       "<table border=\"1\" class=\"dataframe\">\n",
       "  <thead>\n",
       "    <tr style=\"text-align: right;\">\n",
       "      <th></th>\n",
       "      <th>_id</th>\n",
       "      <th>target</th>\n",
       "    </tr>\n",
       "  </thead>\n",
       "  <tbody>\n",
       "    <tr>\n",
       "      <th>0</th>\n",
       "      <td>66810d8e6bf2b41c880a7bc6c8a1e295</td>\n",
       "      <td>0.079457</td>\n",
       "    </tr>\n",
       "    <tr>\n",
       "      <th>1</th>\n",
       "      <td>ccac3879652b08cb8b44c1920fd93afa</td>\n",
       "      <td>0.012332</td>\n",
       "    </tr>\n",
       "    <tr>\n",
       "      <th>2</th>\n",
       "      <td>fcccab4d7a76f70647f015f2c84c2af8</td>\n",
       "      <td>0.002008</td>\n",
       "    </tr>\n",
       "    <tr>\n",
       "      <th>3</th>\n",
       "      <td>ed8399278c30678dab739045fa12b440</td>\n",
       "      <td>0.051770</td>\n",
       "    </tr>\n",
       "    <tr>\n",
       "      <th>4</th>\n",
       "      <td>1d4d62ac5cabcb48bac7112813f290cb</td>\n",
       "      <td>0.015392</td>\n",
       "    </tr>\n",
       "    <tr>\n",
       "      <th>5</th>\n",
       "      <td>aba2dec4c5cab88824f36babd24b986f</td>\n",
       "      <td>0.222412</td>\n",
       "    </tr>\n",
       "    <tr>\n",
       "      <th>6</th>\n",
       "      <td>06f318f1dd178e738f675bb88a5adb84</td>\n",
       "      <td>0.008703</td>\n",
       "    </tr>\n",
       "    <tr>\n",
       "      <th>7</th>\n",
       "      <td>d5036f5956e42ee6207296238fc4bc1d</td>\n",
       "      <td>0.000517</td>\n",
       "    </tr>\n",
       "    <tr>\n",
       "      <th>8</th>\n",
       "      <td>fe0cc8933698ad4046ff2b82f65756eb</td>\n",
       "      <td>0.010426</td>\n",
       "    </tr>\n",
       "    <tr>\n",
       "      <th>9</th>\n",
       "      <td>70190122f4ebf196535e11b33eb95b81</td>\n",
       "      <td>0.001183</td>\n",
       "    </tr>\n",
       "    <tr>\n",
       "      <th>10</th>\n",
       "      <td>8c2e044ac444afd4d0dea67eba0079c4</td>\n",
       "      <td>0.166892</td>\n",
       "    </tr>\n",
       "    <tr>\n",
       "      <th>11</th>\n",
       "      <td>0d7db1117ed3606d7bbbb65d584b5c2f</td>\n",
       "      <td>0.240221</td>\n",
       "    </tr>\n",
       "    <tr>\n",
       "      <th>12</th>\n",
       "      <td>aa3d1e4ba96323b5449a23cb54badc50</td>\n",
       "      <td>0.446309</td>\n",
       "    </tr>\n",
       "    <tr>\n",
       "      <th>13</th>\n",
       "      <td>d312d9b1ffdab785a806490ca0450f7b</td>\n",
       "      <td>0.209461</td>\n",
       "    </tr>\n",
       "    <tr>\n",
       "      <th>14</th>\n",
       "      <td>56da3f911d7cc5e8f47f2703b74bdc45</td>\n",
       "      <td>0.034531</td>\n",
       "    </tr>\n",
       "    <tr>\n",
       "      <th>15</th>\n",
       "      <td>19afb1a10078e901994a1e1e2c058652</td>\n",
       "      <td>0.006344</td>\n",
       "    </tr>\n",
       "    <tr>\n",
       "      <th>16</th>\n",
       "      <td>9ac0fc025e2f551a7d5214a606a77434</td>\n",
       "      <td>0.008240</td>\n",
       "    </tr>\n",
       "    <tr>\n",
       "      <th>17</th>\n",
       "      <td>4bc819b6f4ebbedca0fe354ba5dc7ba3</td>\n",
       "      <td>0.016665</td>\n",
       "    </tr>\n",
       "    <tr>\n",
       "      <th>18</th>\n",
       "      <td>1c02af75529cdaee5f8822a5251f5c63</td>\n",
       "      <td>0.003732</td>\n",
       "    </tr>\n",
       "    <tr>\n",
       "      <th>19</th>\n",
       "      <td>9d0424c7a80ebde8cc8b5520721592f2</td>\n",
       "      <td>0.501707</td>\n",
       "    </tr>\n",
       "    <tr>\n",
       "      <th>20</th>\n",
       "      <td>cf005d4bc86312d5f1032e08ef342e05</td>\n",
       "      <td>0.567737</td>\n",
       "    </tr>\n",
       "    <tr>\n",
       "      <th>21</th>\n",
       "      <td>6abe7bc6263ac81d7f6764c6b0489703</td>\n",
       "      <td>0.022313</td>\n",
       "    </tr>\n",
       "    <tr>\n",
       "      <th>22</th>\n",
       "      <td>b56ee107fc7abbabfa317f9209cbc5fd</td>\n",
       "      <td>0.048635</td>\n",
       "    </tr>\n",
       "    <tr>\n",
       "      <th>23</th>\n",
       "      <td>2fd2f7790cd8d0c638d55f41b1f323a2</td>\n",
       "      <td>0.004626</td>\n",
       "    </tr>\n",
       "    <tr>\n",
       "      <th>24</th>\n",
       "      <td>bd3b2a1af1abd0d48af835aa69848232</td>\n",
       "      <td>0.010182</td>\n",
       "    </tr>\n",
       "    <tr>\n",
       "      <th>25</th>\n",
       "      <td>d50372645903431bd7ceb57bbf1cea06</td>\n",
       "      <td>0.030931</td>\n",
       "    </tr>\n",
       "    <tr>\n",
       "      <th>26</th>\n",
       "      <td>8a11f5487e2e8a6e91d0ab1b6003b55e</td>\n",
       "      <td>0.000205</td>\n",
       "    </tr>\n",
       "    <tr>\n",
       "      <th>27</th>\n",
       "      <td>ab96e787fdf0827bbebcf95b1243d041</td>\n",
       "      <td>0.008207</td>\n",
       "    </tr>\n",
       "    <tr>\n",
       "      <th>28</th>\n",
       "      <td>233d244d79e364f517c846cb3ab1932a</td>\n",
       "      <td>0.029373</td>\n",
       "    </tr>\n",
       "    <tr>\n",
       "      <th>29</th>\n",
       "      <td>45971d4e3a47775bb5a7260bb5ea3c36</td>\n",
       "      <td>0.000783</td>\n",
       "    </tr>\n",
       "    <tr>\n",
       "      <th>...</th>\n",
       "      <td>...</td>\n",
       "      <td>...</td>\n",
       "    </tr>\n",
       "    <tr>\n",
       "      <th>16446</th>\n",
       "      <td>2e7eb3af58c97ad5b28e4ab4066a3166</td>\n",
       "      <td>0.009003</td>\n",
       "    </tr>\n",
       "    <tr>\n",
       "      <th>16447</th>\n",
       "      <td>bf36dd4830374ffc70f6ee3299d64f18</td>\n",
       "      <td>0.016037</td>\n",
       "    </tr>\n",
       "    <tr>\n",
       "      <th>16448</th>\n",
       "      <td>6f414266555cb6936d452d7f670c1d2a</td>\n",
       "      <td>0.009096</td>\n",
       "    </tr>\n",
       "    <tr>\n",
       "      <th>16449</th>\n",
       "      <td>51a8cd987d9172230140ba02680c6888</td>\n",
       "      <td>0.001458</td>\n",
       "    </tr>\n",
       "    <tr>\n",
       "      <th>16450</th>\n",
       "      <td>f22bc2082ffda4152fc91e62d405ae33</td>\n",
       "      <td>0.024466</td>\n",
       "    </tr>\n",
       "    <tr>\n",
       "      <th>16451</th>\n",
       "      <td>78fce17fbfc1649f81525fbff8ce56f6</td>\n",
       "      <td>0.082790</td>\n",
       "    </tr>\n",
       "    <tr>\n",
       "      <th>16452</th>\n",
       "      <td>678b27ff29561345f45c22997d4163b9</td>\n",
       "      <td>0.004441</td>\n",
       "    </tr>\n",
       "    <tr>\n",
       "      <th>16453</th>\n",
       "      <td>6b97722a63470c0e3141afd64dedef69</td>\n",
       "      <td>0.055613</td>\n",
       "    </tr>\n",
       "    <tr>\n",
       "      <th>16454</th>\n",
       "      <td>4f76847f045acfba87b9b31212e5ff04</td>\n",
       "      <td>0.477186</td>\n",
       "    </tr>\n",
       "    <tr>\n",
       "      <th>16455</th>\n",
       "      <td>227b74315a0f38c0468d34cb32c33130</td>\n",
       "      <td>0.006892</td>\n",
       "    </tr>\n",
       "    <tr>\n",
       "      <th>16456</th>\n",
       "      <td>2bfba6d34acd59d1b336a902334fe580</td>\n",
       "      <td>0.019154</td>\n",
       "    </tr>\n",
       "    <tr>\n",
       "      <th>16457</th>\n",
       "      <td>14800414cadc5a5225cfc88a0ad0df5f</td>\n",
       "      <td>0.023832</td>\n",
       "    </tr>\n",
       "    <tr>\n",
       "      <th>16458</th>\n",
       "      <td>990a8c3609aa6b418e9a1d3d03e4bae2</td>\n",
       "      <td>0.000060</td>\n",
       "    </tr>\n",
       "    <tr>\n",
       "      <th>16459</th>\n",
       "      <td>305b62eb82268b8fbe96f40d6bbf8c0d</td>\n",
       "      <td>0.038599</td>\n",
       "    </tr>\n",
       "    <tr>\n",
       "      <th>16460</th>\n",
       "      <td>85192427224a3f6c41d0098da3fc8f42</td>\n",
       "      <td>0.001179</td>\n",
       "    </tr>\n",
       "    <tr>\n",
       "      <th>16461</th>\n",
       "      <td>1d64b28026755f338788275caa736ae5</td>\n",
       "      <td>0.101382</td>\n",
       "    </tr>\n",
       "    <tr>\n",
       "      <th>16462</th>\n",
       "      <td>148b22ee82a0ab3e0a0361db70fcb8f9</td>\n",
       "      <td>0.015668</td>\n",
       "    </tr>\n",
       "    <tr>\n",
       "      <th>16463</th>\n",
       "      <td>be5b5fbf76512e42f33920e507651637</td>\n",
       "      <td>0.060034</td>\n",
       "    </tr>\n",
       "    <tr>\n",
       "      <th>16464</th>\n",
       "      <td>40abfe7908c781d5501f1f659e4c4635</td>\n",
       "      <td>0.679889</td>\n",
       "    </tr>\n",
       "    <tr>\n",
       "      <th>16465</th>\n",
       "      <td>47db50c3c18cafca48d259b44f77459b</td>\n",
       "      <td>0.147260</td>\n",
       "    </tr>\n",
       "    <tr>\n",
       "      <th>16466</th>\n",
       "      <td>909fbfc6b2be0973f005059719b1a74e</td>\n",
       "      <td>0.427426</td>\n",
       "    </tr>\n",
       "    <tr>\n",
       "      <th>16467</th>\n",
       "      <td>2f3adcb8c4dcdd9d639fc4565a9c3d18</td>\n",
       "      <td>0.000057</td>\n",
       "    </tr>\n",
       "    <tr>\n",
       "      <th>16468</th>\n",
       "      <td>647c7ffbf8a9d521e35889915d4e2b5b</td>\n",
       "      <td>0.027131</td>\n",
       "    </tr>\n",
       "    <tr>\n",
       "      <th>16469</th>\n",
       "      <td>b2661316878841e8616c63e394753904</td>\n",
       "      <td>0.007969</td>\n",
       "    </tr>\n",
       "    <tr>\n",
       "      <th>16470</th>\n",
       "      <td>5d85440e397384c76a5653fab7e0e5e7</td>\n",
       "      <td>0.014468</td>\n",
       "    </tr>\n",
       "    <tr>\n",
       "      <th>16471</th>\n",
       "      <td>114c0574c96ac1c71d6529b863a566d8</td>\n",
       "      <td>0.205231</td>\n",
       "    </tr>\n",
       "    <tr>\n",
       "      <th>16472</th>\n",
       "      <td>467e0cc4856d357b4905a3a862e952b4</td>\n",
       "      <td>0.076910</td>\n",
       "    </tr>\n",
       "    <tr>\n",
       "      <th>16473</th>\n",
       "      <td>d1f7a1196e049d5bff3375606950c86c</td>\n",
       "      <td>0.007195</td>\n",
       "    </tr>\n",
       "    <tr>\n",
       "      <th>16474</th>\n",
       "      <td>3e837730540e9b0d6a980b3f6a12bb48</td>\n",
       "      <td>0.009465</td>\n",
       "    </tr>\n",
       "    <tr>\n",
       "      <th>16475</th>\n",
       "      <td>82db4c5dd22e8182b30917571fe77c4d</td>\n",
       "      <td>0.000009</td>\n",
       "    </tr>\n",
       "  </tbody>\n",
       "</table>\n",
       "<p>16476 rows × 2 columns</p>\n",
       "</div>"
      ],
      "text/plain": [
       "                                    _id    target\n",
       "0      66810d8e6bf2b41c880a7bc6c8a1e295  0.079457\n",
       "1      ccac3879652b08cb8b44c1920fd93afa  0.012332\n",
       "2      fcccab4d7a76f70647f015f2c84c2af8  0.002008\n",
       "3      ed8399278c30678dab739045fa12b440  0.051770\n",
       "4      1d4d62ac5cabcb48bac7112813f290cb  0.015392\n",
       "5      aba2dec4c5cab88824f36babd24b986f  0.222412\n",
       "6      06f318f1dd178e738f675bb88a5adb84  0.008703\n",
       "7      d5036f5956e42ee6207296238fc4bc1d  0.000517\n",
       "8      fe0cc8933698ad4046ff2b82f65756eb  0.010426\n",
       "9      70190122f4ebf196535e11b33eb95b81  0.001183\n",
       "10     8c2e044ac444afd4d0dea67eba0079c4  0.166892\n",
       "11     0d7db1117ed3606d7bbbb65d584b5c2f  0.240221\n",
       "12     aa3d1e4ba96323b5449a23cb54badc50  0.446309\n",
       "13     d312d9b1ffdab785a806490ca0450f7b  0.209461\n",
       "14     56da3f911d7cc5e8f47f2703b74bdc45  0.034531\n",
       "15     19afb1a10078e901994a1e1e2c058652  0.006344\n",
       "16     9ac0fc025e2f551a7d5214a606a77434  0.008240\n",
       "17     4bc819b6f4ebbedca0fe354ba5dc7ba3  0.016665\n",
       "18     1c02af75529cdaee5f8822a5251f5c63  0.003732\n",
       "19     9d0424c7a80ebde8cc8b5520721592f2  0.501707\n",
       "20     cf005d4bc86312d5f1032e08ef342e05  0.567737\n",
       "21     6abe7bc6263ac81d7f6764c6b0489703  0.022313\n",
       "22     b56ee107fc7abbabfa317f9209cbc5fd  0.048635\n",
       "23     2fd2f7790cd8d0c638d55f41b1f323a2  0.004626\n",
       "24     bd3b2a1af1abd0d48af835aa69848232  0.010182\n",
       "25     d50372645903431bd7ceb57bbf1cea06  0.030931\n",
       "26     8a11f5487e2e8a6e91d0ab1b6003b55e  0.000205\n",
       "27     ab96e787fdf0827bbebcf95b1243d041  0.008207\n",
       "28     233d244d79e364f517c846cb3ab1932a  0.029373\n",
       "29     45971d4e3a47775bb5a7260bb5ea3c36  0.000783\n",
       "...                                 ...       ...\n",
       "16446  2e7eb3af58c97ad5b28e4ab4066a3166  0.009003\n",
       "16447  bf36dd4830374ffc70f6ee3299d64f18  0.016037\n",
       "16448  6f414266555cb6936d452d7f670c1d2a  0.009096\n",
       "16449  51a8cd987d9172230140ba02680c6888  0.001458\n",
       "16450  f22bc2082ffda4152fc91e62d405ae33  0.024466\n",
       "16451  78fce17fbfc1649f81525fbff8ce56f6  0.082790\n",
       "16452  678b27ff29561345f45c22997d4163b9  0.004441\n",
       "16453  6b97722a63470c0e3141afd64dedef69  0.055613\n",
       "16454  4f76847f045acfba87b9b31212e5ff04  0.477186\n",
       "16455  227b74315a0f38c0468d34cb32c33130  0.006892\n",
       "16456  2bfba6d34acd59d1b336a902334fe580  0.019154\n",
       "16457  14800414cadc5a5225cfc88a0ad0df5f  0.023832\n",
       "16458  990a8c3609aa6b418e9a1d3d03e4bae2  0.000060\n",
       "16459  305b62eb82268b8fbe96f40d6bbf8c0d  0.038599\n",
       "16460  85192427224a3f6c41d0098da3fc8f42  0.001179\n",
       "16461  1d64b28026755f338788275caa736ae5  0.101382\n",
       "16462  148b22ee82a0ab3e0a0361db70fcb8f9  0.015668\n",
       "16463  be5b5fbf76512e42f33920e507651637  0.060034\n",
       "16464  40abfe7908c781d5501f1f659e4c4635  0.679889\n",
       "16465  47db50c3c18cafca48d259b44f77459b  0.147260\n",
       "16466  909fbfc6b2be0973f005059719b1a74e  0.427426\n",
       "16467  2f3adcb8c4dcdd9d639fc4565a9c3d18  0.000057\n",
       "16468  647c7ffbf8a9d521e35889915d4e2b5b  0.027131\n",
       "16469  b2661316878841e8616c63e394753904  0.007969\n",
       "16470  5d85440e397384c76a5653fab7e0e5e7  0.014468\n",
       "16471  114c0574c96ac1c71d6529b863a566d8  0.205231\n",
       "16472  467e0cc4856d357b4905a3a862e952b4  0.076910\n",
       "16473  d1f7a1196e049d5bff3375606950c86c  0.007195\n",
       "16474  3e837730540e9b0d6a980b3f6a12bb48  0.009465\n",
       "16475  82db4c5dd22e8182b30917571fe77c4d  0.000009\n",
       "\n",
       "[16476 rows x 2 columns]"
      ]
     },
     "execution_count": 94,
     "metadata": {},
     "output_type": "execute_result"
    }
   ],
   "source": [
    "subm_final=pd.read_csv(new_submit_file)\n",
    "subm_final"
   ]
  },
  {
   "cell_type": "code",
   "execution_count": null,
   "metadata": {},
   "outputs": [],
   "source": []
  }
 ],
 "metadata": {
  "kernelspec": {
   "display_name": "Python 3",
   "language": "python",
   "name": "python3"
  },
  "language_info": {
   "codemirror_mode": {
    "name": "ipython",
    "version": 3
   },
   "file_extension": ".py",
   "mimetype": "text/x-python",
   "name": "python",
   "nbconvert_exporter": "python",
   "pygments_lexer": "ipython3",
   "version": "3.6.5"
  }
 },
 "nbformat": 4,
 "nbformat_minor": 2
}
