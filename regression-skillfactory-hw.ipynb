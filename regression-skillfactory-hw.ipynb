{
 "cells": [
  {
   "cell_type": "markdown",
   "metadata": {
    "toc": "true"
   },
   "source": [
    "# Table of Contents\n",
    " <p><div class=\"lev1 toc-item\"><a href=\"#Skillfactory---Практический-Machine-Learning\" data-toc-modified-id=\"Skillfactory---Практический-Machine-Learning-1\"><span class=\"toc-item-num\">1&nbsp;&nbsp;</span>Skillfactory - Практический Machine Learning</a></div><div class=\"lev2 toc-item\"><a href=\"#15/02/2018---Практика-с-линейной-регрессией\" data-toc-modified-id=\"15/02/2018---Практика-с-линейной-регрессией-11\"><span class=\"toc-item-num\">1.1&nbsp;&nbsp;</span>15/02/2018 - Практика с линейной регрессией</a></div><div class=\"lev2 toc-item\"><a href=\"#Описание-набора-данных:\" data-toc-modified-id=\"Описание-набора-данных:-12\"><span class=\"toc-item-num\">1.2&nbsp;&nbsp;</span>Описание набора данных:</a></div><div class=\"lev3 toc-item\"><a href=\"#Переменные:\" data-toc-modified-id=\"Переменные:-121\"><span class=\"toc-item-num\">1.2.1&nbsp;&nbsp;</span>Переменные:</a></div><div class=\"lev3 toc-item\"><a href=\"#Постановка-задачи:-\" data-toc-modified-id=\"Постановка-задачи:--122\"><span class=\"toc-item-num\">1.2.2&nbsp;&nbsp;</span>Постановка задачи: <br></a></div><div class=\"lev3 toc-item\"><a href=\"#Предобработка-данных:\" data-toc-modified-id=\"Предобработка-данных:-123\"><span class=\"toc-item-num\">1.2.3&nbsp;&nbsp;</span>Предобработка данных:</a></div><div class=\"lev3 toc-item\"><a href=\"#Первичный-анализ-признаков:\" data-toc-modified-id=\"Первичный-анализ-признаков:-124\"><span class=\"toc-item-num\">1.2.4&nbsp;&nbsp;</span>Первичный анализ признаков:</a></div><div class=\"lev4 toc-item\"><a href=\"#Вещественные-признаки\" data-toc-modified-id=\"Вещественные-признаки-1241\"><span class=\"toc-item-num\">1.2.4.1&nbsp;&nbsp;</span>Вещественные признаки</a></div><div class=\"lev4 toc-item\"><a href=\"#Категориальные-признаки\" data-toc-modified-id=\"Категориальные-признаки-1242\"><span class=\"toc-item-num\">1.2.4.2&nbsp;&nbsp;</span>Категориальные признаки</a></div><div class=\"lev4 toc-item\"><a href=\"#Анализ-линейных-зависимостей-в-данных\" data-toc-modified-id=\"Анализ-линейных-зависимостей-в-данных-1243\"><span class=\"toc-item-num\">1.2.4.3&nbsp;&nbsp;</span>Анализ линейных зависимостей в данных</a></div><div class=\"lev4 toc-item\"><a href=\"#Распределение-некоторых-признаков\" data-toc-modified-id=\"Распределение-некоторых-признаков-1244\"><span class=\"toc-item-num\">1.2.4.4&nbsp;&nbsp;</span>Распределение некоторых признаков</a></div><div class=\"lev4 toc-item\"><a href=\"#Парные-распределения-с-целевыми-признаками\" data-toc-modified-id=\"Парные-распределения-с-целевыми-признаками-1245\"><span class=\"toc-item-num\">1.2.4.5&nbsp;&nbsp;</span>Парные распределения с целевыми признаками</a></div><div class=\"lev1 toc-item\"><a href=\"#Getting-hands-dirty\" data-toc-modified-id=\"Getting-hands-dirty-2\"><span class=\"toc-item-num\">2&nbsp;&nbsp;</span>Getting hands dirty</a></div><div class=\"lev3 toc-item\"><a href=\"#Задание-(0.25)\" data-toc-modified-id=\"Задание-(0.25)-201\"><span class=\"toc-item-num\">2.0.1&nbsp;&nbsp;</span>Задание (0.25)</a></div><div class=\"lev3 toc-item\"><a href=\"#Задание-(0.25)\" data-toc-modified-id=\"Задание-(0.25)-202\"><span class=\"toc-item-num\">2.0.2&nbsp;&nbsp;</span>Задание (0.25)</a></div><div class=\"lev2 toc-item\"><a href=\"#Baseline-modelling\" data-toc-modified-id=\"Baseline-modelling-21\"><span class=\"toc-item-num\">2.1&nbsp;&nbsp;</span>Baseline modelling</a></div><div class=\"lev3 toc-item\"><a href=\"#Задание-(0.10)\" data-toc-modified-id=\"Задание-(0.10)-211\"><span class=\"toc-item-num\">2.1.1&nbsp;&nbsp;</span>Задание (0.10)</a></div><div class=\"lev3 toc-item\"><a href=\"#Задание-(0.15)\" data-toc-modified-id=\"Задание-(0.15)-212\"><span class=\"toc-item-num\">2.1.2&nbsp;&nbsp;</span>Задание (0.15)</a></div><div class=\"lev3 toc-item\"><a href=\"#Задание-(0.25)\" data-toc-modified-id=\"Задание-(0.25)-213\"><span class=\"toc-item-num\">2.1.3&nbsp;&nbsp;</span>Задание (0.25)</a></div>"
   ]
  },
  {
   "cell_type": "markdown",
   "metadata": {},
   "source": [
    "# Skillfactory - Практический Machine Learning\n",
    "## 15/02/2018 - Практика с линейной регрессией\n",
    "\n",
    "<center> Шестаков Андрей </center>"
   ]
  },
  {
   "cell_type": "markdown",
   "metadata": {},
   "source": [
    "Данные: <a href=\"https://www.kaggle.com/c/bike-sharing-demand\">Bike Sharing Demand</a>.\n"
   ]
  },
  {
   "cell_type": "code",
   "execution_count": 43,
   "metadata": {},
   "outputs": [],
   "source": [
    "import seaborn as sns\n",
    "import datetime as dt\n",
    "import pandas as pd\n",
    "import numpy as np\n",
    "import matplotlib.pyplot as plt\n",
    "from sklearn.preprocessing import OneHotEncoder\n",
    "\n",
    "%matplotlib inline"
   ]
  },
  {
   "cell_type": "code",
   "execution_count": 44,
   "metadata": {},
   "outputs": [
    {
     "data": {
      "text/html": [
       "<div>\n",
       "<style scoped>\n",
       "    .dataframe tbody tr th:only-of-type {\n",
       "        vertical-align: middle;\n",
       "    }\n",
       "\n",
       "    .dataframe tbody tr th {\n",
       "        vertical-align: top;\n",
       "    }\n",
       "\n",
       "    .dataframe thead th {\n",
       "        text-align: right;\n",
       "    }\n",
       "</style>\n",
       "<table border=\"1\" class=\"dataframe\">\n",
       "  <thead>\n",
       "    <tr style=\"text-align: right;\">\n",
       "      <th></th>\n",
       "      <th>datetime</th>\n",
       "      <th>season</th>\n",
       "      <th>holiday</th>\n",
       "      <th>workingday</th>\n",
       "      <th>weather</th>\n",
       "      <th>temp</th>\n",
       "      <th>atemp</th>\n",
       "      <th>humidity</th>\n",
       "      <th>windspeed</th>\n",
       "      <th>casual</th>\n",
       "      <th>registered</th>\n",
       "      <th>count</th>\n",
       "    </tr>\n",
       "  </thead>\n",
       "  <tbody>\n",
       "    <tr>\n",
       "      <th>0</th>\n",
       "      <td>2011-01-01 00:00:00</td>\n",
       "      <td>1</td>\n",
       "      <td>0</td>\n",
       "      <td>0</td>\n",
       "      <td>1</td>\n",
       "      <td>9.84</td>\n",
       "      <td>14.395</td>\n",
       "      <td>81</td>\n",
       "      <td>0.0</td>\n",
       "      <td>3</td>\n",
       "      <td>13</td>\n",
       "      <td>16</td>\n",
       "    </tr>\n",
       "    <tr>\n",
       "      <th>1</th>\n",
       "      <td>2011-01-01 01:00:00</td>\n",
       "      <td>1</td>\n",
       "      <td>0</td>\n",
       "      <td>0</td>\n",
       "      <td>1</td>\n",
       "      <td>9.02</td>\n",
       "      <td>13.635</td>\n",
       "      <td>80</td>\n",
       "      <td>0.0</td>\n",
       "      <td>8</td>\n",
       "      <td>32</td>\n",
       "      <td>40</td>\n",
       "    </tr>\n",
       "    <tr>\n",
       "      <th>2</th>\n",
       "      <td>2011-01-01 02:00:00</td>\n",
       "      <td>1</td>\n",
       "      <td>0</td>\n",
       "      <td>0</td>\n",
       "      <td>1</td>\n",
       "      <td>9.02</td>\n",
       "      <td>13.635</td>\n",
       "      <td>80</td>\n",
       "      <td>0.0</td>\n",
       "      <td>5</td>\n",
       "      <td>27</td>\n",
       "      <td>32</td>\n",
       "    </tr>\n",
       "    <tr>\n",
       "      <th>3</th>\n",
       "      <td>2011-01-01 03:00:00</td>\n",
       "      <td>1</td>\n",
       "      <td>0</td>\n",
       "      <td>0</td>\n",
       "      <td>1</td>\n",
       "      <td>9.84</td>\n",
       "      <td>14.395</td>\n",
       "      <td>75</td>\n",
       "      <td>0.0</td>\n",
       "      <td>3</td>\n",
       "      <td>10</td>\n",
       "      <td>13</td>\n",
       "    </tr>\n",
       "    <tr>\n",
       "      <th>4</th>\n",
       "      <td>2011-01-01 04:00:00</td>\n",
       "      <td>1</td>\n",
       "      <td>0</td>\n",
       "      <td>0</td>\n",
       "      <td>1</td>\n",
       "      <td>9.84</td>\n",
       "      <td>14.395</td>\n",
       "      <td>75</td>\n",
       "      <td>0.0</td>\n",
       "      <td>0</td>\n",
       "      <td>1</td>\n",
       "      <td>1</td>\n",
       "    </tr>\n",
       "  </tbody>\n",
       "</table>\n",
       "</div>"
      ],
      "text/plain": [
       "              datetime  season  holiday  workingday  weather  temp   atemp  \\\n",
       "0  2011-01-01 00:00:00       1        0           0        1  9.84  14.395   \n",
       "1  2011-01-01 01:00:00       1        0           0        1  9.02  13.635   \n",
       "2  2011-01-01 02:00:00       1        0           0        1  9.02  13.635   \n",
       "3  2011-01-01 03:00:00       1        0           0        1  9.84  14.395   \n",
       "4  2011-01-01 04:00:00       1        0           0        1  9.84  14.395   \n",
       "\n",
       "   humidity  windspeed  casual  registered  count  \n",
       "0        81        0.0       3          13     16  \n",
       "1        80        0.0       8          32     40  \n",
       "2        80        0.0       5          27     32  \n",
       "3        75        0.0       3          10     13  \n",
       "4        75        0.0       0           1      1  "
      ]
     },
     "execution_count": 44,
     "metadata": {},
     "output_type": "execute_result"
    }
   ],
   "source": [
    "df = pd.read_csv('train_bikes.csv')\n",
    "\n",
    "df.head()"
   ]
  },
  {
   "cell_type": "markdown",
   "metadata": {},
   "source": [
    "## Описание набора данных:\n",
    "Набор данных предоставляет информацию о почасовой аренде велосипедов в течение двух лет в Вашингтоне, округ Колумбия. Для аренды использовались специальные киоски, которые давали возможность случайным прохожим и постоянным клиентам(имеющим регистрацию) взять велосипед на прокат. Данный процесс автоматизирован.\n",
    "\n",
    "Данные в тренеровочной выборке собраны за 2 года с 1 по 19 число каждого месяца. В конечном счете требуется предсказать спрос на остальные дни месяца."
   ]
  },
  {
   "cell_type": "markdown",
   "metadata": {},
   "source": [
    "### Переменные:\n",
    "- *datatime:* метка времени + дата, к который относится каждый час суток\n",
    "- *season:* сезон\n",
    "  1. весна\n",
    "  2. лето\n",
    "  3. осень\n",
    "  4. зима\n",
    "  \n",
    "  \n",
    "- *holiday:* считается ли день праздником. В исходных данных \n",
    "  0. нет\n",
    "  1. да\n",
    "  \n",
    "  \n",
    "- *weather:* погода\n",
    "\n",
    "  1. ясно, небольшая облачность, частичная облачность\n",
    "  2. туман + облачность, туман + разорванные облака, туман + небольшая облачность, туман\n",
    "  3. легкий снег, дождь + гроза + переменная облачность, небольшой дождь + вероятна облачность\n",
    "  4. сильный дождь + ледяной дождь + гроза + туман, снег + тумат\n",
    "  \n",
    "  \n",
    "- *temp:* температура в градусах Цельсия (показания датчиков)\n",
    "- *atemp:* \"Ощущаемая\" температура в градусах Цельсия \n",
    "- *humidity:* относительная влажность\n",
    "- *windspeed:* скорость ветра\n",
    "- *workingday:* отметка, если день не выходной и не праздник  \n",
    "- *casual:* количество незарегистрированных пользователей аренды\n",
    "- *registered:* количество зарегистрированных пользователей аренды\n",
    "- *count:* общее количество аренды"
   ]
  },
  {
   "cell_type": "markdown",
   "metadata": {},
   "source": [
    "### Постановка задачи: <br>\n",
    "Необходимо спрогнозировать спрос на велосипеды (признаки casual, registred, count).\n",
    "\n",
    "Разработанная модель может помочь выявить наиболее значимые признаки в прогнозировании спроса на прокатные велосипеды разных типов пользователей.\n",
    "\n",
    "* casual - это незарегестрированные пользователи, которые, возможно, редко пользуются прокатом и им не выгодно оформлять абонемент\n",
    "* registred - это пользователи, которые завели себе абонемент\n",
    "* count - registred+casual\n",
    "\n",
    "Соответственно целевой переменной может быть любое из этих вариантов\n",
    "\n",
    "Качество оценивается c помощью Root Mean Squared Logarithmic Error (RMSLE) - то есть недопрогноз в данном случае хуже, чем перепрогноз"
   ]
  },
  {
   "cell_type": "markdown",
   "metadata": {},
   "source": [
    "### Предобработка данных:"
   ]
  },
  {
   "cell_type": "markdown",
   "metadata": {},
   "source": [
    "Бинарные признаки уже закодированы. <br> \n",
    "К категориальным переменным можно применить  One-hot encoding <br>\n",
    "Можно отдельно выделить признаки для \"времени дня\", \"месяца\" и дня недели"
   ]
  },
  {
   "cell_type": "code",
   "execution_count": 45,
   "metadata": {},
   "outputs": [],
   "source": [
    "def get_date_features(df):\n",
    "    df['datetime'] = pd.to_datetime(df['datetime'], format='%Y-%m-%d %H:%M')\n",
    "    df['year'] = df.loc[:, 'datetime'].dt.year\n",
    "    df['month'] = df.loc[:, 'datetime'].dt.month\n",
    "    df['day'] = df.loc[:, 'datetime'].dt.day\n",
    "    df['hour'] = df.loc[:, 'datetime'].dt.hour\n",
    "    df['weekday'] = df.loc[:, 'datetime'].dt.weekday\n",
    "    \n",
    "    return df"
   ]
  },
  {
   "cell_type": "code",
   "execution_count": 46,
   "metadata": {},
   "outputs": [],
   "source": [
    "df = df.pipe(get_date_features)"
   ]
  },
  {
   "cell_type": "markdown",
   "metadata": {},
   "source": [
    "### Первичный анализ признаков:"
   ]
  },
  {
   "cell_type": "markdown",
   "metadata": {},
   "source": [
    "Основные характеристики переменных и их описание."
   ]
  },
  {
   "cell_type": "markdown",
   "metadata": {},
   "source": [
    "#### Вещественные признаки"
   ]
  },
  {
   "cell_type": "code",
   "execution_count": 47,
   "metadata": {},
   "outputs": [
    {
     "name": "stdout",
     "output_type": "stream",
     "text": [
      "(10886, 17)\n"
     ]
    },
    {
     "data": {
      "text/html": [
       "<div>\n",
       "<style scoped>\n",
       "    .dataframe tbody tr th:only-of-type {\n",
       "        vertical-align: middle;\n",
       "    }\n",
       "\n",
       "    .dataframe tbody tr th {\n",
       "        vertical-align: top;\n",
       "    }\n",
       "\n",
       "    .dataframe thead th {\n",
       "        text-align: right;\n",
       "    }\n",
       "</style>\n",
       "<table border=\"1\" class=\"dataframe\">\n",
       "  <thead>\n",
       "    <tr style=\"text-align: right;\">\n",
       "      <th></th>\n",
       "      <th>count</th>\n",
       "      <th>mean</th>\n",
       "      <th>std</th>\n",
       "      <th>min</th>\n",
       "      <th>25%</th>\n",
       "      <th>50%</th>\n",
       "      <th>75%</th>\n",
       "      <th>max</th>\n",
       "    </tr>\n",
       "  </thead>\n",
       "  <tbody>\n",
       "    <tr>\n",
       "      <th>season</th>\n",
       "      <td>10886.0</td>\n",
       "      <td>2.506614</td>\n",
       "      <td>1.116174</td>\n",
       "      <td>1.00</td>\n",
       "      <td>2.0000</td>\n",
       "      <td>3.000</td>\n",
       "      <td>4.0000</td>\n",
       "      <td>4.0000</td>\n",
       "    </tr>\n",
       "    <tr>\n",
       "      <th>holiday</th>\n",
       "      <td>10886.0</td>\n",
       "      <td>0.028569</td>\n",
       "      <td>0.166599</td>\n",
       "      <td>0.00</td>\n",
       "      <td>0.0000</td>\n",
       "      <td>0.000</td>\n",
       "      <td>0.0000</td>\n",
       "      <td>1.0000</td>\n",
       "    </tr>\n",
       "    <tr>\n",
       "      <th>workingday</th>\n",
       "      <td>10886.0</td>\n",
       "      <td>0.680875</td>\n",
       "      <td>0.466159</td>\n",
       "      <td>0.00</td>\n",
       "      <td>0.0000</td>\n",
       "      <td>1.000</td>\n",
       "      <td>1.0000</td>\n",
       "      <td>1.0000</td>\n",
       "    </tr>\n",
       "    <tr>\n",
       "      <th>weather</th>\n",
       "      <td>10886.0</td>\n",
       "      <td>1.418427</td>\n",
       "      <td>0.633839</td>\n",
       "      <td>1.00</td>\n",
       "      <td>1.0000</td>\n",
       "      <td>1.000</td>\n",
       "      <td>2.0000</td>\n",
       "      <td>4.0000</td>\n",
       "    </tr>\n",
       "    <tr>\n",
       "      <th>temp</th>\n",
       "      <td>10886.0</td>\n",
       "      <td>20.230860</td>\n",
       "      <td>7.791590</td>\n",
       "      <td>0.82</td>\n",
       "      <td>13.9400</td>\n",
       "      <td>20.500</td>\n",
       "      <td>26.2400</td>\n",
       "      <td>41.0000</td>\n",
       "    </tr>\n",
       "    <tr>\n",
       "      <th>atemp</th>\n",
       "      <td>10886.0</td>\n",
       "      <td>23.655084</td>\n",
       "      <td>8.474601</td>\n",
       "      <td>0.76</td>\n",
       "      <td>16.6650</td>\n",
       "      <td>24.240</td>\n",
       "      <td>31.0600</td>\n",
       "      <td>45.4550</td>\n",
       "    </tr>\n",
       "    <tr>\n",
       "      <th>humidity</th>\n",
       "      <td>10886.0</td>\n",
       "      <td>61.886460</td>\n",
       "      <td>19.245033</td>\n",
       "      <td>0.00</td>\n",
       "      <td>47.0000</td>\n",
       "      <td>62.000</td>\n",
       "      <td>77.0000</td>\n",
       "      <td>100.0000</td>\n",
       "    </tr>\n",
       "    <tr>\n",
       "      <th>windspeed</th>\n",
       "      <td>10886.0</td>\n",
       "      <td>12.799395</td>\n",
       "      <td>8.164537</td>\n",
       "      <td>0.00</td>\n",
       "      <td>7.0015</td>\n",
       "      <td>12.998</td>\n",
       "      <td>16.9979</td>\n",
       "      <td>56.9969</td>\n",
       "    </tr>\n",
       "    <tr>\n",
       "      <th>casual</th>\n",
       "      <td>10886.0</td>\n",
       "      <td>36.021955</td>\n",
       "      <td>49.960477</td>\n",
       "      <td>0.00</td>\n",
       "      <td>4.0000</td>\n",
       "      <td>17.000</td>\n",
       "      <td>49.0000</td>\n",
       "      <td>367.0000</td>\n",
       "    </tr>\n",
       "    <tr>\n",
       "      <th>registered</th>\n",
       "      <td>10886.0</td>\n",
       "      <td>155.552177</td>\n",
       "      <td>151.039033</td>\n",
       "      <td>0.00</td>\n",
       "      <td>36.0000</td>\n",
       "      <td>118.000</td>\n",
       "      <td>222.0000</td>\n",
       "      <td>886.0000</td>\n",
       "    </tr>\n",
       "    <tr>\n",
       "      <th>count</th>\n",
       "      <td>10886.0</td>\n",
       "      <td>191.574132</td>\n",
       "      <td>181.144454</td>\n",
       "      <td>1.00</td>\n",
       "      <td>42.0000</td>\n",
       "      <td>145.000</td>\n",
       "      <td>284.0000</td>\n",
       "      <td>977.0000</td>\n",
       "    </tr>\n",
       "    <tr>\n",
       "      <th>year</th>\n",
       "      <td>10886.0</td>\n",
       "      <td>2011.501929</td>\n",
       "      <td>0.500019</td>\n",
       "      <td>2011.00</td>\n",
       "      <td>2011.0000</td>\n",
       "      <td>2012.000</td>\n",
       "      <td>2012.0000</td>\n",
       "      <td>2012.0000</td>\n",
       "    </tr>\n",
       "    <tr>\n",
       "      <th>month</th>\n",
       "      <td>10886.0</td>\n",
       "      <td>6.521495</td>\n",
       "      <td>3.444373</td>\n",
       "      <td>1.00</td>\n",
       "      <td>4.0000</td>\n",
       "      <td>7.000</td>\n",
       "      <td>10.0000</td>\n",
       "      <td>12.0000</td>\n",
       "    </tr>\n",
       "    <tr>\n",
       "      <th>day</th>\n",
       "      <td>10886.0</td>\n",
       "      <td>9.992559</td>\n",
       "      <td>5.476608</td>\n",
       "      <td>1.00</td>\n",
       "      <td>5.0000</td>\n",
       "      <td>10.000</td>\n",
       "      <td>15.0000</td>\n",
       "      <td>19.0000</td>\n",
       "    </tr>\n",
       "    <tr>\n",
       "      <th>hour</th>\n",
       "      <td>10886.0</td>\n",
       "      <td>11.541613</td>\n",
       "      <td>6.915838</td>\n",
       "      <td>0.00</td>\n",
       "      <td>6.0000</td>\n",
       "      <td>12.000</td>\n",
       "      <td>18.0000</td>\n",
       "      <td>23.0000</td>\n",
       "    </tr>\n",
       "    <tr>\n",
       "      <th>weekday</th>\n",
       "      <td>10886.0</td>\n",
       "      <td>3.013963</td>\n",
       "      <td>2.004585</td>\n",
       "      <td>0.00</td>\n",
       "      <td>1.0000</td>\n",
       "      <td>3.000</td>\n",
       "      <td>5.0000</td>\n",
       "      <td>6.0000</td>\n",
       "    </tr>\n",
       "  </tbody>\n",
       "</table>\n",
       "</div>"
      ],
      "text/plain": [
       "              count         mean         std      min        25%       50%  \\\n",
       "season      10886.0     2.506614    1.116174     1.00     2.0000     3.000   \n",
       "holiday     10886.0     0.028569    0.166599     0.00     0.0000     0.000   \n",
       "workingday  10886.0     0.680875    0.466159     0.00     0.0000     1.000   \n",
       "weather     10886.0     1.418427    0.633839     1.00     1.0000     1.000   \n",
       "temp        10886.0    20.230860    7.791590     0.82    13.9400    20.500   \n",
       "atemp       10886.0    23.655084    8.474601     0.76    16.6650    24.240   \n",
       "humidity    10886.0    61.886460   19.245033     0.00    47.0000    62.000   \n",
       "windspeed   10886.0    12.799395    8.164537     0.00     7.0015    12.998   \n",
       "casual      10886.0    36.021955   49.960477     0.00     4.0000    17.000   \n",
       "registered  10886.0   155.552177  151.039033     0.00    36.0000   118.000   \n",
       "count       10886.0   191.574132  181.144454     1.00    42.0000   145.000   \n",
       "year        10886.0  2011.501929    0.500019  2011.00  2011.0000  2012.000   \n",
       "month       10886.0     6.521495    3.444373     1.00     4.0000     7.000   \n",
       "day         10886.0     9.992559    5.476608     1.00     5.0000    10.000   \n",
       "hour        10886.0    11.541613    6.915838     0.00     6.0000    12.000   \n",
       "weekday     10886.0     3.013963    2.004585     0.00     1.0000     3.000   \n",
       "\n",
       "                  75%        max  \n",
       "season         4.0000     4.0000  \n",
       "holiday        0.0000     1.0000  \n",
       "workingday     1.0000     1.0000  \n",
       "weather        2.0000     4.0000  \n",
       "temp          26.2400    41.0000  \n",
       "atemp         31.0600    45.4550  \n",
       "humidity      77.0000   100.0000  \n",
       "windspeed     16.9979    56.9969  \n",
       "casual        49.0000   367.0000  \n",
       "registered   222.0000   886.0000  \n",
       "count        284.0000   977.0000  \n",
       "year        2012.0000  2012.0000  \n",
       "month         10.0000    12.0000  \n",
       "day           15.0000    19.0000  \n",
       "hour          18.0000    23.0000  \n",
       "weekday        5.0000     6.0000  "
      ]
     },
     "execution_count": 47,
     "metadata": {},
     "output_type": "execute_result"
    }
   ],
   "source": [
    "print(df.shape)\n",
    "df.describe().T"
   ]
  },
  {
   "cell_type": "markdown",
   "metadata": {},
   "source": [
    "#### Категориальные признаки"
   ]
  },
  {
   "cell_type": "code",
   "execution_count": 48,
   "metadata": {},
   "outputs": [
    {
     "name": "stdout",
     "output_type": "stream",
     "text": [
      "\n",
      "holiday\n",
      "0    10575\n",
      "1      311\n",
      "Name: holiday, dtype: int64\n",
      "_____________________________________________\n",
      "\n",
      "season\n",
      "4    2734\n",
      "3    2733\n",
      "2    2733\n",
      "1    2686\n",
      "Name: season, dtype: int64\n",
      "_____________________________________________\n",
      "\n",
      "weather\n",
      "1    7192\n",
      "2    2834\n",
      "3     859\n",
      "4       1\n",
      "Name: weather, dtype: int64\n",
      "_____________________________________________\n",
      "\n",
      "workingday\n",
      "1    7412\n",
      "0    3474\n",
      "Name: workingday, dtype: int64\n",
      "_____________________________________________\n",
      "\n",
      "weekday\n",
      "5    1584\n",
      "6    1579\n",
      "3    1553\n",
      "2    1551\n",
      "0    1551\n",
      "1    1539\n",
      "4    1529\n",
      "Name: weekday, dtype: int64\n",
      "_____________________________________________\n"
     ]
    }
   ],
   "source": [
    "for i in [\"holiday\", \"season\", \"weather\", \"workingday\", \"weekday\"]:\n",
    "    print('')\n",
    "    print(i)\n",
    "    print(df[i].value_counts())\n",
    "    print('_____________________________________________')"
   ]
  },
  {
   "cell_type": "raw",
   "metadata": {},
   "source": [
    "fig, ax = plt.subplots(ncols=2, figsize=(20,5))\n",
    "ax[0].hist(df.weekday[df.workingday==1])\n",
    "ax[1].hist(df.weekday[df.workingday==0])"
   ]
  },
  {
   "cell_type": "code",
   "execution_count": 49,
   "metadata": {},
   "outputs": [
    {
     "data": {
      "text/html": [
       "<div>\n",
       "<style scoped>\n",
       "    .dataframe tbody tr th:only-of-type {\n",
       "        vertical-align: middle;\n",
       "    }\n",
       "\n",
       "    .dataframe tbody tr th {\n",
       "        vertical-align: top;\n",
       "    }\n",
       "\n",
       "    .dataframe thead th {\n",
       "        text-align: right;\n",
       "    }\n",
       "</style>\n",
       "<table border=\"1\" class=\"dataframe\">\n",
       "  <thead>\n",
       "    <tr style=\"text-align: right;\">\n",
       "      <th></th>\n",
       "      <th>workingday</th>\n",
       "      <th>weekday</th>\n",
       "    </tr>\n",
       "  </thead>\n",
       "  <tbody>\n",
       "    <tr>\n",
       "      <th>workingday</th>\n",
       "      <td>1.000000</td>\n",
       "      <td>-0.704267</td>\n",
       "    </tr>\n",
       "    <tr>\n",
       "      <th>weekday</th>\n",
       "      <td>-0.704267</td>\n",
       "      <td>1.000000</td>\n",
       "    </tr>\n",
       "  </tbody>\n",
       "</table>\n",
       "</div>"
      ],
      "text/plain": [
       "            workingday   weekday\n",
       "workingday    1.000000 -0.704267\n",
       "weekday      -0.704267  1.000000"
      ]
     },
     "execution_count": 49,
     "metadata": {},
     "output_type": "execute_result"
    }
   ],
   "source": [
    "df[['workingday','weekday']].corr()"
   ]
  },
  {
   "cell_type": "markdown",
   "metadata": {},
   "source": [
    "**Вывод:** <br>\n",
    "Чаще велосипеды брали в ясную погоду. Присутствует редкая категория \"4\" в признаке \"weather\". <br>"
   ]
  },
  {
   "cell_type": "markdown",
   "metadata": {},
   "source": [
    "#### Анализ линейных зависимостей в данных"
   ]
  },
  {
   "cell_type": "markdown",
   "metadata": {},
   "source": [
    "Определим, есть ли переменные с высокой корреляцией."
   ]
  },
  {
   "cell_type": "raw",
   "metadata": {},
   "source": [
    "f, ax = plt.subplots(figsize = (21, 21))\n",
    "sns.heatmap(df.corr(), ax = ax, annot=True)"
   ]
  },
  {
   "cell_type": "markdown",
   "metadata": {},
   "source": [
    "**Вывод:** <br>\n",
    "Наибольшую корреляцию имеют atemp и temp. Корреляция близка к 1, поэтому скорее всего придется оставить какую-то одну из переменных.\n",
    "\n",
    "В то же время, целевые переменные (count, registred и casual) в большей степени коррелированы именно с показтелями температуры"
   ]
  },
  {
   "cell_type": "markdown",
   "metadata": {},
   "source": [
    "#### Распределение некоторых признаков"
   ]
  },
  {
   "cell_type": "raw",
   "metadata": {},
   "source": [
    "sns.distplot(df['humidity'])"
   ]
  },
  {
   "cell_type": "raw",
   "metadata": {},
   "source": [
    "sns.distplot(df['temp'])"
   ]
  },
  {
   "cell_type": "raw",
   "metadata": {},
   "source": [
    "sns.distplot(df['windspeed'])"
   ]
  },
  {
   "cell_type": "markdown",
   "metadata": {},
   "source": [
    "#### Парные распределения с целевыми признаками"
   ]
  },
  {
   "cell_type": "markdown",
   "metadata": {},
   "source": [
    "*Выясним, как зависит аренда от даты и времени.*"
   ]
  },
  {
   "cell_type": "raw",
   "metadata": {},
   "source": [
    "sns.barplot('year', 'count', data=df)"
   ]
  },
  {
   "cell_type": "markdown",
   "metadata": {},
   "source": [
    "**Вывод:** <br>\n",
    "Количество аренды возврасло в течение заданного периода (2011 - 2012 года). Стоит это учитывать при прогнозировании на дни соответствующих годов."
   ]
  },
  {
   "cell_type": "raw",
   "metadata": {},
   "source": [
    "sns.barplot('month', 'count', data=df, hue='year')"
   ]
  },
  {
   "cell_type": "raw",
   "metadata": {},
   "source": [
    "sns.barplot('season', 'count', data=df, hue='year')"
   ]
  },
  {
   "cell_type": "markdown",
   "metadata": {},
   "source": [
    "**Вывод:** <br>\n",
    "В зимний период наблюдался спад востребованности велосипедов, а в летние - напротив, рост. То есть прослеживается очевидная сезонность."
   ]
  },
  {
   "cell_type": "raw",
   "metadata": {},
   "source": [
    "sns.barplot('day', 'count', data=df, hue='year')"
   ]
  },
  {
   "cell_type": "markdown",
   "metadata": {},
   "source": [
    "**Вывод:** <br>\n",
    "Можно сделать вывод, что ежедневная востребованность велосипедов в первой половине месяца не имела тенденции резко возрастать или уменьшаться. <br>\n",
    "То есть данные о дне не имеют высокого влияния на аренду."
   ]
  },
  {
   "cell_type": "raw",
   "metadata": {},
   "source": [
    "g = sns.FacetGrid(df, col='year', size=5)\n",
    "g.map(sns.barplot, 'hour', 'count', 'workingday')"
   ]
  },
  {
   "cell_type": "markdown",
   "metadata": {},
   "source": [
    "**Вывод:** <br>\n",
    "В отличие от дня на календаре время имеет вес в прогнозировании. После возрастания (и последующего падения) в утренние часы, к вечеру количество арендующих постепенно возрастало."
   ]
  },
  {
   "cell_type": "raw",
   "metadata": {},
   "source": [
    "sns.barplot('weekday', 'count', data=df, hue='year')"
   ]
  },
  {
   "cell_type": "markdown",
   "metadata": {},
   "source": [
    "**Вывод:** <br>\n",
    "Наблюдался небольшой провал в воскресение."
   ]
  },
  {
   "cell_type": "markdown",
   "metadata": {},
   "source": [
    "Посмотрим на отличие в распределение зарегистрированных и незарегистрированных пользователей"
   ]
  },
  {
   "cell_type": "raw",
   "metadata": {},
   "source": [
    "sns.factorplot('weekday', 'casual', data=df, hue='year')\n",
    "sns.factorplot('weekday', 'registered', data=df, hue='year')"
   ]
  },
  {
   "cell_type": "markdown",
   "metadata": {},
   "source": [
    "**Вывод: **<br>\n",
    "Зарегистрированные в системе пользователи чаще брали велосипеды в выходные дни, при этом пик аренды достигался в субботу. <br>\n",
    "Незарегистированные же предпочитали брать велосипеды в буднии дни, практически игнорируя(в сравнении) при этом выходные дни. Самый низкий показатель датировался воскресением, после чего в понедельник происходил резкий взлёт аренды. <br>"
   ]
  },
  {
   "cell_type": "markdown",
   "metadata": {},
   "source": [
    "# Getting hands dirty"
   ]
  },
  {
   "cell_type": "code",
   "execution_count": 50,
   "metadata": {},
   "outputs": [],
   "source": [
    "from sklearn.model_selection import train_test_split, cross_val_score\n",
    "from sklearn.model_selection import StratifiedKFold"
   ]
  },
  {
   "cell_type": "markdown",
   "metadata": {},
   "source": [
    "### Задание (0.25)"
   ]
  },
  {
   "cell_type": "markdown",
   "metadata": {},
   "source": [
    "Создайте переменную (именно отдельную переменную а не стобец в датафрейме) состоящий из строк вида \"год-месяц-час\"\n",
    "\n",
    "Эта переменная понадобится нам далее"
   ]
  },
  {
   "cell_type": "code",
   "execution_count": 51,
   "metadata": {},
   "outputs": [],
   "source": [
    "year_month_hour = (df['year'].astype('str')+'-'+df['month'].astype('str')+'-'+df['hour'].astype('str')).values"
   ]
  },
  {
   "cell_type": "code",
   "execution_count": 52,
   "metadata": {},
   "outputs": [
    {
     "data": {
      "text/plain": [
       "array(['2011-1-0', '2011-1-1', '2011-1-2', ..., '2012-12-21',\n",
       "       '2012-12-22', '2012-12-23'], dtype=object)"
      ]
     },
     "execution_count": 52,
     "metadata": {},
     "output_type": "execute_result"
    }
   ],
   "source": [
    "year_month_hour"
   ]
  },
  {
   "cell_type": "markdown",
   "metadata": {},
   "source": [
    "### Задание (0.25)"
   ]
  },
  {
   "cell_type": "markdown",
   "metadata": {},
   "source": [
    "Напишите функцию `prepare_features` которая бы\n",
    "* Удаляла ненужные признаки (сильно скоррелированные и просто бесполковые, типа `datetime`, `day`)\n",
    "* Оставляла только один из целевых признаков (casual, registred или count)\n",
    "* Вместо того, чтобы затачиваться на конкретный час (признак `hour`) создайте новую переменную (утро, день, вечер, ночь). Границы оцените интуитивно. Старую переменную удалите\n",
    "* Преобразовывала бинарные признаки в вектора с {0,1} а категориальные признаки в вектора с {0,1,...,C-1}\n",
    "* Опционально: создайте переменную, которая учитывает день недели и время"
   ]
  },
  {
   "cell_type": "code",
   "execution_count": 53,
   "metadata": {},
   "outputs": [
    {
     "name": "stdout",
     "output_type": "stream",
     "text": [
      "5 atemp 4 temp 0.9849481104817348\n"
     ]
    }
   ],
   "source": [
    "thresh=0.98\n",
    "for ii,i in enumerate(df.select_dtypes(include=[np.number]).columns.tolist()) :\n",
    "    for jj,j in enumerate(df.select_dtypes(include=[np.number]).columns.tolist()) :\n",
    "        if jj==ii : break\n",
    "        else:\n",
    "            cor = abs(df.corr()[i][jj])\n",
    "            if cor > thresh :\n",
    "                print(ii, i, jj, j, cor)"
   ]
  },
  {
   "cell_type": "code",
   "execution_count": 54,
   "metadata": {},
   "outputs": [],
   "source": [
    "def part_of_day(hour):\n",
    "    if 7<= hour <=9 : return 0          #'утро'\n",
    "    elif 10<= hour <=16 : return 1      #'день'\n",
    "    elif 17<= hour <=19 : return 2      #'вечер'\n",
    "    else : return 3                     #'ночь'"
   ]
  },
  {
   "cell_type": "code",
   "execution_count": 55,
   "metadata": {},
   "outputs": [],
   "source": [
    "y_label = ''\n",
    "\n",
    "def prepare_features(df, target_feature=y_label):\n",
    "\n",
    "    # Удаляем 'casual', 'registred'\n",
    "    for i in ['casual', 'registered']:\n",
    "        if i in df.columns :\n",
    "            df = df.drop(i, axis=1)\n",
    "    \n",
    "    # Удаляем скореллированные колонки\n",
    "    for i in ['atemp', 'season']:\n",
    "        if i in df.columns :\n",
    "            df = df.drop(i, axis=1)\n",
    "\n",
    "    # Удаляем бестолковые 'datetime', 'day'\n",
    "    for i in ['datetime', 'day']:\n",
    "        if i in df.columns :\n",
    "            df = df.drop(i, axis=1)\n",
    "    \n",
    "\n",
    "    # Меняем час на зоны суток\n",
    "    if 'hour' in df.columns :\n",
    "        df['part_of_day'] = df['hour'].map(part_of_day)\n",
    "        df = df.drop('hour', axis=1)\n",
    "    \n",
    "    # Преобразовывала бинарные признаки в вектора с {0,1} а категориальные признаки в вектора с {0,1,...,C-1}\n",
    "    categorial_col = [\"holiday\", \"weather\", \"workingday\"]\n",
    "    for i in categorial_col:\n",
    "        if i in df.columns:\n",
    "            set_old=np.sort(list(set(df[i])))\n",
    "            if not (len(set_old)==2 and (0 in set_old) and (1 in set_old)):\n",
    "                set_new=np.arange(len(set_old))\n",
    "                replace_dict=dict(zip(set_old,set_new))\n",
    "                df.loc[:,i]=df.loc[:,i].map(replace_dict)\n",
    "      \n",
    "    return df"
   ]
  },
  {
   "cell_type": "code",
   "execution_count": 56,
   "metadata": {},
   "outputs": [],
   "source": [
    "df_clear = df.pipe(prepare_features, y_label)"
   ]
  },
  {
   "cell_type": "code",
   "execution_count": 57,
   "metadata": {},
   "outputs": [],
   "source": [
    "# создайте переменную, которая учитывает день недели и время\n",
    "week_and_part_of_day = df_clear.weekday.values * 4 + df_clear.part_of_day.values"
   ]
  },
  {
   "cell_type": "code",
   "execution_count": 58,
   "metadata": {},
   "outputs": [
    {
     "data": {
      "text/html": [
       "<div>\n",
       "<style scoped>\n",
       "    .dataframe tbody tr th:only-of-type {\n",
       "        vertical-align: middle;\n",
       "    }\n",
       "\n",
       "    .dataframe tbody tr th {\n",
       "        vertical-align: top;\n",
       "    }\n",
       "\n",
       "    .dataframe thead th {\n",
       "        text-align: right;\n",
       "    }\n",
       "</style>\n",
       "<table border=\"1\" class=\"dataframe\">\n",
       "  <thead>\n",
       "    <tr style=\"text-align: right;\">\n",
       "      <th></th>\n",
       "      <th>holiday</th>\n",
       "      <th>workingday</th>\n",
       "      <th>weather</th>\n",
       "      <th>temp</th>\n",
       "      <th>humidity</th>\n",
       "      <th>windspeed</th>\n",
       "      <th>count</th>\n",
       "      <th>year</th>\n",
       "      <th>month</th>\n",
       "      <th>weekday</th>\n",
       "      <th>part_of_day</th>\n",
       "    </tr>\n",
       "  </thead>\n",
       "  <tbody>\n",
       "    <tr>\n",
       "      <th>0</th>\n",
       "      <td>0</td>\n",
       "      <td>0</td>\n",
       "      <td>0</td>\n",
       "      <td>9.84</td>\n",
       "      <td>81</td>\n",
       "      <td>0.0</td>\n",
       "      <td>16</td>\n",
       "      <td>2011</td>\n",
       "      <td>1</td>\n",
       "      <td>5</td>\n",
       "      <td>3</td>\n",
       "    </tr>\n",
       "    <tr>\n",
       "      <th>1</th>\n",
       "      <td>0</td>\n",
       "      <td>0</td>\n",
       "      <td>0</td>\n",
       "      <td>9.02</td>\n",
       "      <td>80</td>\n",
       "      <td>0.0</td>\n",
       "      <td>40</td>\n",
       "      <td>2011</td>\n",
       "      <td>1</td>\n",
       "      <td>5</td>\n",
       "      <td>3</td>\n",
       "    </tr>\n",
       "    <tr>\n",
       "      <th>2</th>\n",
       "      <td>0</td>\n",
       "      <td>0</td>\n",
       "      <td>0</td>\n",
       "      <td>9.02</td>\n",
       "      <td>80</td>\n",
       "      <td>0.0</td>\n",
       "      <td>32</td>\n",
       "      <td>2011</td>\n",
       "      <td>1</td>\n",
       "      <td>5</td>\n",
       "      <td>3</td>\n",
       "    </tr>\n",
       "    <tr>\n",
       "      <th>3</th>\n",
       "      <td>0</td>\n",
       "      <td>0</td>\n",
       "      <td>0</td>\n",
       "      <td>9.84</td>\n",
       "      <td>75</td>\n",
       "      <td>0.0</td>\n",
       "      <td>13</td>\n",
       "      <td>2011</td>\n",
       "      <td>1</td>\n",
       "      <td>5</td>\n",
       "      <td>3</td>\n",
       "    </tr>\n",
       "    <tr>\n",
       "      <th>4</th>\n",
       "      <td>0</td>\n",
       "      <td>0</td>\n",
       "      <td>0</td>\n",
       "      <td>9.84</td>\n",
       "      <td>75</td>\n",
       "      <td>0.0</td>\n",
       "      <td>1</td>\n",
       "      <td>2011</td>\n",
       "      <td>1</td>\n",
       "      <td>5</td>\n",
       "      <td>3</td>\n",
       "    </tr>\n",
       "  </tbody>\n",
       "</table>\n",
       "</div>"
      ],
      "text/plain": [
       "   holiday  workingday  weather  temp  humidity  windspeed  count  year  \\\n",
       "0        0           0        0  9.84        81        0.0     16  2011   \n",
       "1        0           0        0  9.02        80        0.0     40  2011   \n",
       "2        0           0        0  9.02        80        0.0     32  2011   \n",
       "3        0           0        0  9.84        75        0.0     13  2011   \n",
       "4        0           0        0  9.84        75        0.0      1  2011   \n",
       "\n",
       "   month  weekday  part_of_day  \n",
       "0      1        5            3  \n",
       "1      1        5            3  \n",
       "2      1        5            3  \n",
       "3      1        5            3  \n",
       "4      1        5            3  "
      ]
     },
     "execution_count": 58,
     "metadata": {},
     "output_type": "execute_result"
    }
   ],
   "source": [
    "df_clear.head()"
   ]
  },
  {
   "cell_type": "code",
   "execution_count": 60,
   "metadata": {},
   "outputs": [
    {
     "data": {
      "text/plain": [
       "array([23, 23, 23, ..., 11, 11, 11], dtype=int64)"
      ]
     },
     "execution_count": 60,
     "metadata": {},
     "output_type": "execute_result"
    }
   ],
   "source": [
    "week_and_part_of_day"
   ]
  },
  {
   "cell_type": "markdown",
   "metadata": {},
   "source": [
    "Сделаем не простое разбиение на обучение и контроль а такую, что в контрольной и обучающей выборке будет примерно одинаковое распределение по году-месяцу"
   ]
  },
  {
   "cell_type": "markdown",
   "metadata": {},
   "source": [
    "## Baseline modelling"
   ]
  },
  {
   "cell_type": "markdown",
   "metadata": {
    "collapsed": true
   },
   "source": [
    "Для удобства будем использовать не LinearRegression а ElasticNet, так как в нем можно одновременно котроллировать оба типа регуляризации"
   ]
  },
  {
   "cell_type": "code",
   "execution_count": 61,
   "metadata": {},
   "outputs": [],
   "source": [
    "from sklearn.linear_model import ElasticNet"
   ]
  },
  {
   "cell_type": "code",
   "execution_count": 62,
   "metadata": {},
   "outputs": [],
   "source": [
    "# alpha - это общая сила регуляризации\n",
    "# l1_ration - доля, которая приходтися на Lasso регуляризацию. Соответственно остальное идет на Rigde\n",
    "regressor = ElasticNet(alpha=1.0, l1_ratio=0.5)"
   ]
  },
  {
   "cell_type": "markdown",
   "metadata": {},
   "source": [
    "### Задание (0.10)\n",
    "\n",
    "Составьте pipeline, который состоит из следующих этапов (в скобках узакано \"название\" этапа):\n",
    "\n",
    "* One-hot encoder (\"onehot\")\n",
    "* StandartScaler (\"scaler\")\n",
    "* ElasticNet (\"elastic\")"
   ]
  },
  {
   "cell_type": "code",
   "execution_count": 64,
   "metadata": {},
   "outputs": [],
   "source": [
    "from sklearn.preprocessing import StandardScaler, OneHotEncoder\n",
    "from sklearn.pipeline import Pipeline"
   ]
  },
  {
   "cell_type": "code",
   "execution_count": 79,
   "metadata": {},
   "outputs": [
    {
     "name": "stdout",
     "output_type": "stream",
     "text": [
      "2 weather {0, 1, 2, 3}\n",
      "8 month {1, 2, 3, 4, 5, 6, 7, 8, 9, 10, 11, 12}\n",
      "9 weekday {0, 1, 2, 3, 4, 5, 6}\n",
      "10 part_of_day {0, 1, 2, 3}\n"
     ]
    },
    {
     "data": {
      "text/plain": [
       "[2, 8, 9, 10]"
      ]
     },
     "execution_count": 79,
     "metadata": {},
     "output_type": "execute_result"
    }
   ],
   "source": [
    "categorial_col=[]\n",
    "for ii, i in enumerate(df_clear.columns):\n",
    "    if 2<len(set(df_clear[i]))<20:\n",
    "        print(ii, i, set(df_clear[i]))\n",
    "        categorial_col.append(ii)\n",
    "categorial_col"
   ]
  },
  {
   "cell_type": "code",
   "execution_count": 89,
   "metadata": {},
   "outputs": [],
   "source": [
    "model = Pipeline([\n",
    "    ('onehot', OneHotEncoder(categorical_features=categorial_col, handle_unknown='ignore')),\n",
    "    ('scaler', StandardScaler(with_mean =False)),\n",
    "    ('elastic', regressor)\n",
    "    ])"
   ]
  },
  {
   "cell_type": "markdown",
   "metadata": {},
   "source": [
    "### Задание (0.15)"
   ]
  },
  {
   "cell_type": "markdown",
   "metadata": {},
   "source": [
    "Перед тем как пойдем дальше реализуем RLMSE"
   ]
  },
  {
   "cell_type": "code",
   "execution_count": 90,
   "metadata": {},
   "outputs": [],
   "source": [
    "def rlmse_score(y_test, y_hat):\n",
    "    # Your code here\n",
    "    rlmse = np.sqrt(np.mean((np.log(y_test + 1) - np.log(y_hat + 1))**2))\n",
    "    return rlmse\n",
    "\n",
    "# Эту функцию трогать не надо\n",
    "def rlmse_scorer(estimator, X, y):\n",
    "    y_hat = estimator.predict(X)\n",
    "    \n",
    "    return rlmse_score(y, y_hat)"
   ]
  },
  {
   "cell_type": "markdown",
   "metadata": {},
   "source": [
    "Так как мы еще не знаем, что такое GridSearch или RandomSearch будем исследоать изменение качества только одного из параметров: alpha\n",
    "\n",
    "Сделаем мы это чуть более хитро чем просто в цикле перебирать разные значения:\n",
    "* Во-первых мы сделаем особую кросс-валидацию, учитывающую время\n",
    "* Так как у нас будет кросс-валидация, то мы сможем посмотреть на \"стабильность\" скора, а не просто на его среднее"
   ]
  },
  {
   "cell_type": "code",
   "execution_count": 91,
   "metadata": {},
   "outputs": [],
   "source": [
    "from sklearn.model_selection import validation_curve"
   ]
  },
  {
   "cell_type": "code",
   "execution_count": 92,
   "metadata": {},
   "outputs": [
    {
     "data": {
      "text/html": [
       "<div>\n",
       "<style scoped>\n",
       "    .dataframe tbody tr th:only-of-type {\n",
       "        vertical-align: middle;\n",
       "    }\n",
       "\n",
       "    .dataframe tbody tr th {\n",
       "        vertical-align: top;\n",
       "    }\n",
       "\n",
       "    .dataframe thead th {\n",
       "        text-align: right;\n",
       "    }\n",
       "</style>\n",
       "<table border=\"1\" class=\"dataframe\">\n",
       "  <thead>\n",
       "    <tr style=\"text-align: right;\">\n",
       "      <th></th>\n",
       "      <th>holiday</th>\n",
       "      <th>workingday</th>\n",
       "      <th>weather</th>\n",
       "      <th>temp</th>\n",
       "      <th>humidity</th>\n",
       "      <th>windspeed</th>\n",
       "      <th>count</th>\n",
       "      <th>year</th>\n",
       "      <th>month</th>\n",
       "      <th>weekday</th>\n",
       "      <th>part_of_day</th>\n",
       "    </tr>\n",
       "  </thead>\n",
       "  <tbody>\n",
       "    <tr>\n",
       "      <th>0</th>\n",
       "      <td>0</td>\n",
       "      <td>0</td>\n",
       "      <td>0</td>\n",
       "      <td>9.84</td>\n",
       "      <td>81</td>\n",
       "      <td>0.0</td>\n",
       "      <td>16</td>\n",
       "      <td>2011</td>\n",
       "      <td>1</td>\n",
       "      <td>5</td>\n",
       "      <td>3</td>\n",
       "    </tr>\n",
       "    <tr>\n",
       "      <th>1</th>\n",
       "      <td>0</td>\n",
       "      <td>0</td>\n",
       "      <td>0</td>\n",
       "      <td>9.02</td>\n",
       "      <td>80</td>\n",
       "      <td>0.0</td>\n",
       "      <td>40</td>\n",
       "      <td>2011</td>\n",
       "      <td>1</td>\n",
       "      <td>5</td>\n",
       "      <td>3</td>\n",
       "    </tr>\n",
       "    <tr>\n",
       "      <th>2</th>\n",
       "      <td>0</td>\n",
       "      <td>0</td>\n",
       "      <td>0</td>\n",
       "      <td>9.02</td>\n",
       "      <td>80</td>\n",
       "      <td>0.0</td>\n",
       "      <td>32</td>\n",
       "      <td>2011</td>\n",
       "      <td>1</td>\n",
       "      <td>5</td>\n",
       "      <td>3</td>\n",
       "    </tr>\n",
       "    <tr>\n",
       "      <th>3</th>\n",
       "      <td>0</td>\n",
       "      <td>0</td>\n",
       "      <td>0</td>\n",
       "      <td>9.84</td>\n",
       "      <td>75</td>\n",
       "      <td>0.0</td>\n",
       "      <td>13</td>\n",
       "      <td>2011</td>\n",
       "      <td>1</td>\n",
       "      <td>5</td>\n",
       "      <td>3</td>\n",
       "    </tr>\n",
       "    <tr>\n",
       "      <th>4</th>\n",
       "      <td>0</td>\n",
       "      <td>0</td>\n",
       "      <td>0</td>\n",
       "      <td>9.84</td>\n",
       "      <td>75</td>\n",
       "      <td>0.0</td>\n",
       "      <td>1</td>\n",
       "      <td>2011</td>\n",
       "      <td>1</td>\n",
       "      <td>5</td>\n",
       "      <td>3</td>\n",
       "    </tr>\n",
       "  </tbody>\n",
       "</table>\n",
       "</div>"
      ],
      "text/plain": [
       "   holiday  workingday  weather  temp  humidity  windspeed  count  year  \\\n",
       "0        0           0        0  9.84        81        0.0     16  2011   \n",
       "1        0           0        0  9.02        80        0.0     40  2011   \n",
       "2        0           0        0  9.02        80        0.0     32  2011   \n",
       "3        0           0        0  9.84        75        0.0     13  2011   \n",
       "4        0           0        0  9.84        75        0.0      1  2011   \n",
       "\n",
       "   month  weekday  part_of_day  \n",
       "0      1        5            3  \n",
       "1      1        5            3  \n",
       "2      1        5            3  \n",
       "3      1        5            3  \n",
       "4      1        5            3  "
      ]
     },
     "execution_count": 92,
     "metadata": {},
     "output_type": "execute_result"
    }
   ],
   "source": [
    "df_clear.head()"
   ]
  },
  {
   "cell_type": "code",
   "execution_count": 93,
   "metadata": {},
   "outputs": [],
   "source": [
    "y=df['count']\n",
    "X=df_clear#(['count', 'datetime'], axis=1)"
   ]
  },
  {
   "cell_type": "code",
   "execution_count": 94,
   "metadata": {},
   "outputs": [
    {
     "name": "stderr",
     "output_type": "stream",
     "text": [
      "C:\\ProgramData\\Anaconda3\\lib\\site-packages\\ipykernel_launcher.py:3: RuntimeWarning: invalid value encountered in log\n",
      "  This is separate from the ipykernel package so we can avoid doing imports until\n",
      "C:\\ProgramData\\Anaconda3\\lib\\site-packages\\ipykernel_launcher.py:3: RuntimeWarning: invalid value encountered in log\n",
      "  This is separate from the ipykernel package so we can avoid doing imports until\n",
      "C:\\ProgramData\\Anaconda3\\lib\\site-packages\\ipykernel_launcher.py:3: RuntimeWarning: invalid value encountered in log\n",
      "  This is separate from the ipykernel package so we can avoid doing imports until\n",
      "C:\\ProgramData\\Anaconda3\\lib\\site-packages\\ipykernel_launcher.py:3: RuntimeWarning: invalid value encountered in log\n",
      "  This is separate from the ipykernel package so we can avoid doing imports until\n",
      "C:\\ProgramData\\Anaconda3\\lib\\site-packages\\ipykernel_launcher.py:3: RuntimeWarning: invalid value encountered in log\n",
      "  This is separate from the ipykernel package so we can avoid doing imports until\n",
      "C:\\ProgramData\\Anaconda3\\lib\\site-packages\\ipykernel_launcher.py:3: RuntimeWarning: invalid value encountered in log\n",
      "  This is separate from the ipykernel package so we can avoid doing imports until\n",
      "C:\\ProgramData\\Anaconda3\\lib\\site-packages\\ipykernel_launcher.py:3: RuntimeWarning: invalid value encountered in log\n",
      "  This is separate from the ipykernel package so we can avoid doing imports until\n",
      "C:\\ProgramData\\Anaconda3\\lib\\site-packages\\ipykernel_launcher.py:3: RuntimeWarning: invalid value encountered in log\n",
      "  This is separate from the ipykernel package so we can avoid doing imports until\n",
      "C:\\ProgramData\\Anaconda3\\lib\\site-packages\\ipykernel_launcher.py:3: RuntimeWarning: invalid value encountered in log\n",
      "  This is separate from the ipykernel package so we can avoid doing imports until\n",
      "C:\\ProgramData\\Anaconda3\\lib\\site-packages\\ipykernel_launcher.py:3: RuntimeWarning: invalid value encountered in log\n",
      "  This is separate from the ipykernel package so we can avoid doing imports until\n",
      "C:\\ProgramData\\Anaconda3\\lib\\site-packages\\ipykernel_launcher.py:3: RuntimeWarning: invalid value encountered in log\n",
      "  This is separate from the ipykernel package so we can avoid doing imports until\n",
      "C:\\ProgramData\\Anaconda3\\lib\\site-packages\\ipykernel_launcher.py:3: RuntimeWarning: invalid value encountered in log\n",
      "  This is separate from the ipykernel package so we can avoid doing imports until\n",
      "C:\\ProgramData\\Anaconda3\\lib\\site-packages\\ipykernel_launcher.py:3: RuntimeWarning: invalid value encountered in log\n",
      "  This is separate from the ipykernel package so we can avoid doing imports until\n",
      "C:\\ProgramData\\Anaconda3\\lib\\site-packages\\ipykernel_launcher.py:3: RuntimeWarning: invalid value encountered in log\n",
      "  This is separate from the ipykernel package so we can avoid doing imports until\n",
      "C:\\ProgramData\\Anaconda3\\lib\\site-packages\\ipykernel_launcher.py:3: RuntimeWarning: invalid value encountered in log\n",
      "  This is separate from the ipykernel package so we can avoid doing imports until\n",
      "C:\\ProgramData\\Anaconda3\\lib\\site-packages\\ipykernel_launcher.py:3: RuntimeWarning: invalid value encountered in log\n",
      "  This is separate from the ipykernel package so we can avoid doing imports until\n",
      "C:\\ProgramData\\Anaconda3\\lib\\site-packages\\ipykernel_launcher.py:3: RuntimeWarning: invalid value encountered in log\n",
      "  This is separate from the ipykernel package so we can avoid doing imports until\n",
      "C:\\ProgramData\\Anaconda3\\lib\\site-packages\\ipykernel_launcher.py:3: RuntimeWarning: invalid value encountered in log\n",
      "  This is separate from the ipykernel package so we can avoid doing imports until\n",
      "C:\\ProgramData\\Anaconda3\\lib\\site-packages\\ipykernel_launcher.py:3: RuntimeWarning: invalid value encountered in log\n",
      "  This is separate from the ipykernel package so we can avoid doing imports until\n",
      "C:\\ProgramData\\Anaconda3\\lib\\site-packages\\ipykernel_launcher.py:3: RuntimeWarning: invalid value encountered in log\n",
      "  This is separate from the ipykernel package so we can avoid doing imports until\n",
      "C:\\ProgramData\\Anaconda3\\lib\\site-packages\\ipykernel_launcher.py:3: RuntimeWarning: invalid value encountered in log\n",
      "  This is separate from the ipykernel package so we can avoid doing imports until\n",
      "C:\\ProgramData\\Anaconda3\\lib\\site-packages\\ipykernel_launcher.py:3: RuntimeWarning: invalid value encountered in log\n",
      "  This is separate from the ipykernel package so we can avoid doing imports until\n",
      "C:\\ProgramData\\Anaconda3\\lib\\site-packages\\ipykernel_launcher.py:3: RuntimeWarning: invalid value encountered in log\n",
      "  This is separate from the ipykernel package so we can avoid doing imports until\n",
      "C:\\ProgramData\\Anaconda3\\lib\\site-packages\\ipykernel_launcher.py:3: RuntimeWarning: invalid value encountered in log\n",
      "  This is separate from the ipykernel package so we can avoid doing imports until\n",
      "C:\\ProgramData\\Anaconda3\\lib\\site-packages\\ipykernel_launcher.py:3: RuntimeWarning: invalid value encountered in log\n",
      "  This is separate from the ipykernel package so we can avoid doing imports until\n",
      "C:\\ProgramData\\Anaconda3\\lib\\site-packages\\ipykernel_launcher.py:3: RuntimeWarning: invalid value encountered in log\n",
      "  This is separate from the ipykernel package so we can avoid doing imports until\n",
      "C:\\ProgramData\\Anaconda3\\lib\\site-packages\\ipykernel_launcher.py:3: RuntimeWarning: invalid value encountered in log\n",
      "  This is separate from the ipykernel package so we can avoid doing imports until\n",
      "C:\\ProgramData\\Anaconda3\\lib\\site-packages\\ipykernel_launcher.py:3: RuntimeWarning: invalid value encountered in log\n",
      "  This is separate from the ipykernel package so we can avoid doing imports until\n",
      "C:\\ProgramData\\Anaconda3\\lib\\site-packages\\ipykernel_launcher.py:3: RuntimeWarning: invalid value encountered in log\n",
      "  This is separate from the ipykernel package so we can avoid doing imports until\n",
      "C:\\ProgramData\\Anaconda3\\lib\\site-packages\\ipykernel_launcher.py:3: RuntimeWarning: invalid value encountered in log\n",
      "  This is separate from the ipykernel package so we can avoid doing imports until\n"
     ]
    }
   ],
   "source": [
    "# Это не обычная кросс-валидация а стратифицированная. №\n",
    "# С ее помощью мы добъемся того, что в обучающем и валидационном фолде будет одна и та же пропорция годов-месяцев-часов\n",
    "# Тут то и понадобится нам year_month_hour\n",
    "# Подробности http://scikit-learn.org/stable/modules/generated/sklearn.model_selection.StratifiedKFold.html#sklearn.model_selection.StratifiedKFold\n",
    "n_folds = 5\n",
    "cv = StratifiedKFold(n_splits=n_folds, shuffle=True, random_state=123)\n",
    "\n",
    "# Переберем 20 значений в интервале от 10^-3 до 10^5\n",
    "alpha_range = np.logspace(-3, 5, 20)\n",
    "\n",
    "param_name = \"elastic__alpha\"\n",
    "# пишем не просто alpha, потому что у нас pipeline и sklearn должен как-то понимать параметр какого этапа мы перебираем\n",
    "\n",
    "train_scores, valid_scores = validation_curve(model, X, y, param_name=param_name, param_range=alpha_range,\n",
    "                                              cv=cv.split(X, year_month_hour), scoring=rlmse_scorer)\n",
    "\n",
    "# На выходе мы получим 2 матрицы размера 20 на n_folds\n",
    "# Потому что у нас было 5 фолдов и 20 возможных значений гиперпараметра\n",
    "# А матриц 2, потому что в каждом фолде есть обучающая и валидационная часть"
   ]
  },
  {
   "cell_type": "code",
   "execution_count": 95,
   "metadata": {},
   "outputs": [
    {
     "data": {
      "text/plain": [
       "array([[0.00774991, 0.00790538, 0.00748304, 0.00781117, 0.0077716 ],\n",
       "       [0.02029066, 0.02067835, 0.01955348, 0.0204945 , 0.02034079],\n",
       "       [0.05394824, 0.05493487, 0.05154667, 0.05487677, 0.05400645],\n",
       "       [0.15516234, 0.16551102, 0.14405432, 0.14990694, 0.14622247],\n",
       "       [0.25248351, 0.25640236, 0.24215291, 0.27535893, 0.27193503],\n",
       "       [0.38597121, 0.38340749, 0.38747171, 0.38960513, 0.39972233],\n",
       "       [0.57540125, 0.58125505, 0.57406936, 0.5772809 , 0.57141081],\n",
       "       [0.78385283, 0.79311062, 0.78629777, 0.79292829, 0.78463079],\n",
       "       [1.03202298, 1.03886202, 1.03848181, 1.04332297, 1.032487  ],\n",
       "       [1.27104788, 1.2776501 , 1.27521335, 1.27967416, 1.27075261],\n",
       "       [1.43072188, 1.43758796, 1.43451981, 1.43908023, 1.4317595 ],\n",
       "       [1.51662515, 1.5233749 , 1.51992806, 1.52449233, 1.51849672],\n",
       "       [1.55344642, 1.56017541, 1.55666537, 1.56126015, 1.55558614],\n",
       "       [1.56434866, 1.5712152 , 1.56751706, 1.57221322, 1.56659976],\n",
       "       [1.56516688, 1.57207363, 1.5683214 , 1.57304848, 1.56743662],\n",
       "       [1.56516688, 1.57207363, 1.5683214 , 1.57304848, 1.56743662],\n",
       "       [1.56516688, 1.57207363, 1.5683214 , 1.57304848, 1.56743662],\n",
       "       [1.56516688, 1.57207363, 1.5683214 , 1.57304848, 1.56743662],\n",
       "       [1.56516688, 1.57207363, 1.5683214 , 1.57304848, 1.56743662],\n",
       "       [1.56516688, 1.57207363, 1.5683214 , 1.57304848, 1.56743662]])"
      ]
     },
     "execution_count": 95,
     "metadata": {},
     "output_type": "execute_result"
    }
   ],
   "source": [
    "train_scores"
   ]
  },
  {
   "cell_type": "code",
   "execution_count": 96,
   "metadata": {},
   "outputs": [
    {
     "data": {
      "text/plain": [
       "array([[0.00751564, 0.00819252, 0.00768751, 0.00799374, 0.00758917],\n",
       "       [0.01976702, 0.02161003, 0.02014317, 0.02079776, 0.01957098],\n",
       "       [0.05283863, 0.05947918, 0.05334201, 0.05468173, 0.04959314],\n",
       "       [0.14913853, 0.17802002, 0.13921082, 0.1896813 , 0.12157791],\n",
       "       [0.32529922, 0.28161445, 0.24615805, 0.24294765, 0.280577  ],\n",
       "       [0.40215526, 0.39664415, 0.41292704, 0.41463456, 0.37589871],\n",
       "       [0.56020903, 0.57213627, 0.57618342, 0.56728212, 0.58889339],\n",
       "       [0.78404239, 0.78119193, 0.78360976, 0.77039871, 0.82845535],\n",
       "       [1.03808449, 1.02973064, 1.03305576, 1.02085277, 1.07011268],\n",
       "       [1.28023223, 1.27652525, 1.26986471, 1.26005578, 1.29382286],\n",
       "       [1.44213489, 1.43982962, 1.42841455, 1.42160035, 1.44516928],\n",
       "       [1.5288122 , 1.52663241, 1.51388711, 1.50799818, 1.52746241],\n",
       "       [1.56594444, 1.56338206, 1.55079769, 1.54508421, 1.56351503],\n",
       "       [1.57692439, 1.57416457, 1.56183018, 1.55602241, 1.5745085 ],\n",
       "       [1.57775088, 1.57500169, 1.56265289, 1.5568572 , 1.57533875],\n",
       "       [1.57775088, 1.57500169, 1.56265289, 1.5568572 , 1.57533875],\n",
       "       [1.57775088, 1.57500169, 1.56265289, 1.5568572 , 1.57533875],\n",
       "       [1.57775088, 1.57500169, 1.56265289, 1.5568572 , 1.57533875],\n",
       "       [1.57775088, 1.57500169, 1.56265289, 1.5568572 , 1.57533875],\n",
       "       [1.57775088, 1.57500169, 1.56265289, 1.5568572 , 1.57533875]])"
      ]
     },
     "execution_count": 96,
     "metadata": {},
     "output_type": "execute_result"
    }
   ],
   "source": [
    "valid_scores"
   ]
  },
  {
   "cell_type": "markdown",
   "metadata": {},
   "source": [
    "### Задание (0.25)\n",
    "\n",
    "Для каждой матрицы сделайте следующее\n",
    "\n",
    "* По каждой строчке посчитайте среднее значение (среднее значение качества по заданного значения параметра)\n",
    "* По каждой строчке посчитайте стандартное отклонение (мера разброса меры качества)\n",
    "\n",
    "Изобразите график, на котором \n",
    "* по оси x отложены значения alpha\n",
    "* по оси y отложены средние значения меры качества (отдельно для обучающей части и валидационной)\n",
    "* с помощью функции plt.fill_between изобразите разбос меры качества в каждой точке (придется чутка почитать документации)"
   ]
  },
  {
   "cell_type": "code",
   "execution_count": 97,
   "metadata": {},
   "outputs": [],
   "source": [
    "scores_stat=pd.DataFrame(columns=['train_mean','train_std','valid_mean','valid_std'])\n",
    "scores_stat.loc[:,'alpha']=[x for x in np.logspace(-3, 5, 20)]\n",
    "scores_stat.loc[:,'train_mean'] = train_scores.mean(axis=1)\n",
    "scores_stat.loc[:,'train_std']= train_scores.std(axis=1)\n",
    "scores_stat.loc[:,'valid_mean'] = valid_scores.mean(axis=1)\n",
    "scores_stat.loc[:,'valid_std']= valid_scores.std(axis=1)"
   ]
  },
  {
   "cell_type": "code",
   "execution_count": 98,
   "metadata": {},
   "outputs": [
    {
     "data": {
      "text/html": [
       "<div>\n",
       "<style scoped>\n",
       "    .dataframe tbody tr th:only-of-type {\n",
       "        vertical-align: middle;\n",
       "    }\n",
       "\n",
       "    .dataframe tbody tr th {\n",
       "        vertical-align: top;\n",
       "    }\n",
       "\n",
       "    .dataframe thead th {\n",
       "        text-align: right;\n",
       "    }\n",
       "</style>\n",
       "<table border=\"1\" class=\"dataframe\">\n",
       "  <thead>\n",
       "    <tr style=\"text-align: right;\">\n",
       "      <th></th>\n",
       "      <th>train_mean</th>\n",
       "      <th>train_std</th>\n",
       "      <th>valid_mean</th>\n",
       "      <th>valid_std</th>\n",
       "      <th>alpha</th>\n",
       "    </tr>\n",
       "  </thead>\n",
       "  <tbody>\n",
       "    <tr>\n",
       "      <th>0</th>\n",
       "      <td>0.007744</td>\n",
       "      <td>0.000141</td>\n",
       "      <td>0.007796</td>\n",
       "      <td>0.000257</td>\n",
       "      <td>0.001000</td>\n",
       "    </tr>\n",
       "    <tr>\n",
       "      <th>1</th>\n",
       "      <td>0.020272</td>\n",
       "      <td>0.000384</td>\n",
       "      <td>0.020378</td>\n",
       "      <td>0.000745</td>\n",
       "      <td>0.002637</td>\n",
       "    </tr>\n",
       "    <tr>\n",
       "      <th>2</th>\n",
       "      <td>0.053863</td>\n",
       "      <td>0.001230</td>\n",
       "      <td>0.053987</td>\n",
       "      <td>0.003215</td>\n",
       "      <td>0.006952</td>\n",
       "    </tr>\n",
       "    <tr>\n",
       "      <th>3</th>\n",
       "      <td>0.152171</td>\n",
       "      <td>0.007659</td>\n",
       "      <td>0.155526</td>\n",
       "      <td>0.025028</td>\n",
       "      <td>0.018330</td>\n",
       "    </tr>\n",
       "    <tr>\n",
       "      <th>4</th>\n",
       "      <td>0.259667</td>\n",
       "      <td>0.012375</td>\n",
       "      <td>0.275319</td>\n",
       "      <td>0.029878</td>\n",
       "      <td>0.048329</td>\n",
       "    </tr>\n",
       "    <tr>\n",
       "      <th>5</th>\n",
       "      <td>0.389236</td>\n",
       "      <td>0.005619</td>\n",
       "      <td>0.400452</td>\n",
       "      <td>0.013979</td>\n",
       "      <td>0.127427</td>\n",
       "    </tr>\n",
       "    <tr>\n",
       "      <th>6</th>\n",
       "      <td>0.575883</td>\n",
       "      <td>0.003297</td>\n",
       "      <td>0.572941</td>\n",
       "      <td>0.009589</td>\n",
       "      <td>0.335982</td>\n",
       "    </tr>\n",
       "    <tr>\n",
       "      <th>7</th>\n",
       "      <td>0.788164</td>\n",
       "      <td>0.004043</td>\n",
       "      <td>0.789540</td>\n",
       "      <td>0.020079</td>\n",
       "      <td>0.885867</td>\n",
       "    </tr>\n",
       "    <tr>\n",
       "      <th>8</th>\n",
       "      <td>1.037035</td>\n",
       "      <td>0.004261</td>\n",
       "      <td>1.038367</td>\n",
       "      <td>0.016837</td>\n",
       "      <td>2.335721</td>\n",
       "    </tr>\n",
       "    <tr>\n",
       "      <th>9</th>\n",
       "      <td>1.274868</td>\n",
       "      <td>0.003535</td>\n",
       "      <td>1.276100</td>\n",
       "      <td>0.011204</td>\n",
       "      <td>6.158482</td>\n",
       "    </tr>\n",
       "    <tr>\n",
       "      <th>10</th>\n",
       "      <td>1.434734</td>\n",
       "      <td>0.003226</td>\n",
       "      <td>1.435430</td>\n",
       "      <td>0.008940</td>\n",
       "      <td>16.237767</td>\n",
       "    </tr>\n",
       "    <tr>\n",
       "      <th>11</th>\n",
       "      <td>1.520583</td>\n",
       "      <td>0.002950</td>\n",
       "      <td>1.520958</td>\n",
       "      <td>0.008416</td>\n",
       "      <td>42.813324</td>\n",
       "    </tr>\n",
       "    <tr>\n",
       "      <th>12</th>\n",
       "      <td>1.557427</td>\n",
       "      <td>0.002900</td>\n",
       "      <td>1.557745</td>\n",
       "      <td>0.008257</td>\n",
       "      <td>112.883789</td>\n",
       "    </tr>\n",
       "    <tr>\n",
       "      <th>13</th>\n",
       "      <td>1.568379</td>\n",
       "      <td>0.002929</td>\n",
       "      <td>1.568690</td>\n",
       "      <td>0.008236</td>\n",
       "      <td>297.635144</td>\n",
       "    </tr>\n",
       "    <tr>\n",
       "      <th>14</th>\n",
       "      <td>1.569209</td>\n",
       "      <td>0.002940</td>\n",
       "      <td>1.569520</td>\n",
       "      <td>0.008236</td>\n",
       "      <td>784.759970</td>\n",
       "    </tr>\n",
       "    <tr>\n",
       "      <th>15</th>\n",
       "      <td>1.569209</td>\n",
       "      <td>0.002940</td>\n",
       "      <td>1.569520</td>\n",
       "      <td>0.008236</td>\n",
       "      <td>2069.138081</td>\n",
       "    </tr>\n",
       "    <tr>\n",
       "      <th>16</th>\n",
       "      <td>1.569209</td>\n",
       "      <td>0.002940</td>\n",
       "      <td>1.569520</td>\n",
       "      <td>0.008236</td>\n",
       "      <td>5455.594781</td>\n",
       "    </tr>\n",
       "    <tr>\n",
       "      <th>17</th>\n",
       "      <td>1.569209</td>\n",
       "      <td>0.002940</td>\n",
       "      <td>1.569520</td>\n",
       "      <td>0.008236</td>\n",
       "      <td>14384.498883</td>\n",
       "    </tr>\n",
       "    <tr>\n",
       "      <th>18</th>\n",
       "      <td>1.569209</td>\n",
       "      <td>0.002940</td>\n",
       "      <td>1.569520</td>\n",
       "      <td>0.008236</td>\n",
       "      <td>37926.901907</td>\n",
       "    </tr>\n",
       "    <tr>\n",
       "      <th>19</th>\n",
       "      <td>1.569209</td>\n",
       "      <td>0.002940</td>\n",
       "      <td>1.569520</td>\n",
       "      <td>0.008236</td>\n",
       "      <td>100000.000000</td>\n",
       "    </tr>\n",
       "  </tbody>\n",
       "</table>\n",
       "</div>"
      ],
      "text/plain": [
       "    train_mean  train_std  valid_mean  valid_std          alpha\n",
       "0     0.007744   0.000141    0.007796   0.000257       0.001000\n",
       "1     0.020272   0.000384    0.020378   0.000745       0.002637\n",
       "2     0.053863   0.001230    0.053987   0.003215       0.006952\n",
       "3     0.152171   0.007659    0.155526   0.025028       0.018330\n",
       "4     0.259667   0.012375    0.275319   0.029878       0.048329\n",
       "5     0.389236   0.005619    0.400452   0.013979       0.127427\n",
       "6     0.575883   0.003297    0.572941   0.009589       0.335982\n",
       "7     0.788164   0.004043    0.789540   0.020079       0.885867\n",
       "8     1.037035   0.004261    1.038367   0.016837       2.335721\n",
       "9     1.274868   0.003535    1.276100   0.011204       6.158482\n",
       "10    1.434734   0.003226    1.435430   0.008940      16.237767\n",
       "11    1.520583   0.002950    1.520958   0.008416      42.813324\n",
       "12    1.557427   0.002900    1.557745   0.008257     112.883789\n",
       "13    1.568379   0.002929    1.568690   0.008236     297.635144\n",
       "14    1.569209   0.002940    1.569520   0.008236     784.759970\n",
       "15    1.569209   0.002940    1.569520   0.008236    2069.138081\n",
       "16    1.569209   0.002940    1.569520   0.008236    5455.594781\n",
       "17    1.569209   0.002940    1.569520   0.008236   14384.498883\n",
       "18    1.569209   0.002940    1.569520   0.008236   37926.901907\n",
       "19    1.569209   0.002940    1.569520   0.008236  100000.000000"
      ]
     },
     "execution_count": 98,
     "metadata": {},
     "output_type": "execute_result"
    }
   ],
   "source": [
    "scores_stat"
   ]
  },
  {
   "cell_type": "code",
   "execution_count": 99,
   "metadata": {},
   "outputs": [
    {
     "data": {
      "text/plain": [
       "Text(0.5,0,'alpha')"
      ]
     },
     "execution_count": 99,
     "metadata": {},
     "output_type": "execute_result"
    },
    {
     "data": {
      "image/png": "[encoded data removed]",
      "text/plain": [
       "<Figure size 1296x504 with 1 Axes>"
      ]
     },
     "metadata": {},
     "output_type": "display_data"
    }
   ],
   "source": [
    "y=scores_stat['train_mean']\n",
    "y1=scores_stat['train_mean']-scores_stat['train_std']\n",
    "y2=scores_stat['train_mean']+scores_stat['train_std']\n",
    "x=scores_stat['alpha']\n",
    "\n",
    "fig, ax= plt.subplots(1,1,figsize=(18,7))\n",
    "ax.scatter(x, y, color='r')\n",
    "ax.fill_between(x,y1,y2,color='grey', alpha='0.5')\n",
    "ax.set_title('Среднее значение и разброс меры на обучающей выборке')\n",
    "ax.set_xlabel('alpha')"
   ]
  },
  {
   "cell_type": "code",
   "execution_count": 100,
   "metadata": {},
   "outputs": [
    {
     "data": {
      "text/plain": [
       "Text(0.5,0,'alpha-index')"
      ]
     },
     "execution_count": 100,
     "metadata": {},
     "output_type": "execute_result"
    },
    {
     "data": {
      "image/png": "[encoded data removed]",
      "text/plain": [
       "<Figure size 1296x504 with 1 Axes>"
      ]
     },
     "metadata": {},
     "output_type": "display_data"
    }
   ],
   "source": [
    "y=scores_stat['train_mean']\n",
    "y1=scores_stat['train_mean']-scores_stat['train_std']\n",
    "y2=scores_stat['train_mean']+scores_stat['train_std']\n",
    "x=scores_stat.index\n",
    "\n",
    "fig, ax= plt.subplots(1,1,figsize=(18,7))\n",
    "ax.scatter(x, y, color='r')\n",
    "ax.fill_between(x, y1, y2, color='grey', alpha='0.5')\n",
    "ax.set_title('Среднее значение и разброс меры на обучающей выборке')\n",
    "ax.set_xlabel('alpha-index')"
   ]
  },
  {
   "cell_type": "code",
   "execution_count": 101,
   "metadata": {},
   "outputs": [
    {
     "data": {
      "text/plain": [
       "Text(0.5,0,'alpha')"
      ]
     },
     "execution_count": 101,
     "metadata": {},
     "output_type": "execute_result"
    },
    {
     "data": {
      "image/png": "[encoded data removed]",
      "text/plain": [
       "<Figure size 1296x504 with 1 Axes>"
      ]
     },
     "metadata": {},
     "output_type": "display_data"
    }
   ],
   "source": [
    "y=scores_stat['valid_mean']\n",
    "y1=scores_stat['valid_mean']-scores_stat['valid_std']\n",
    "y2=scores_stat['valid_mean']+scores_stat['valid_std']\n",
    "x=scores_stat['alpha']\n",
    "\n",
    "fig, ax= plt.subplots(1,1,figsize=(18,7))\n",
    "ax.scatter(x, y, color='g')\n",
    "ax.fill_between(x,y1,y2,color='grey', alpha='0.5')\n",
    "ax.set_title('Среднее значение и разброс меры на валидационной выборке')\n",
    "ax.set_xlabel('alpha')"
   ]
  },
  {
   "cell_type": "code",
   "execution_count": 102,
   "metadata": {},
   "outputs": [
    {
     "data": {
      "text/plain": [
       "Text(0.5,0,'alpha-index')"
      ]
     },
     "execution_count": 102,
     "metadata": {},
     "output_type": "execute_result"
    },
    {
     "data": {
      "image/png": "[encoded data removed]",
      "text/plain": [
       "<Figure size 1296x504 with 1 Axes>"
      ]
     },
     "metadata": {},
     "output_type": "display_data"
    }
   ],
   "source": [
    "y=scores_stat['valid_mean']\n",
    "y1=scores_stat['valid_mean']-scores_stat['valid_std']\n",
    "y2=scores_stat['valid_mean']+scores_stat['valid_std']\n",
    "x=scores_stat.index\n",
    "\n",
    "fig, ax= plt.subplots(1,1,figsize=(18,7))\n",
    "ax.scatter(x, y, color='r')\n",
    "ax.fill_between(x,y1,y2,color='grey', alpha='0.5')\n",
    "ax.set_title('Среднее значение и разброс меры на валидационной выборке')\n",
    "ax.set_xlabel('alpha-index')"
   ]
  },
  {
   "cell_type": "code",
   "execution_count": null,
   "metadata": {},
   "outputs": [],
   "source": []
  },
  {
   "cell_type": "code",
   "execution_count": null,
   "metadata": {},
   "outputs": [],
   "source": []
  }
 ],
 "metadata": {
  "anaconda-cloud": {},
  "kernelspec": {
   "display_name": "Python 3",
   "language": "python",
   "name": "python3"
  },
  "language_info": {
   "codemirror_mode": {
    "name": "ipython",
    "version": 3
   },
   "file_extension": ".py",
   "mimetype": "text/x-python",
   "name": "python",
   "nbconvert_exporter": "python",
   "pygments_lexer": "ipython3",
   "version": "3.6.5"
  },
  "nav_menu": {},
  "toc": {
   "colors": {
    "hover_highlight": "#DAA520",
    "navigate_num": "#000000",
    "navigate_text": "#333333",
    "running_highlight": "#FF0000",
    "selected_highlight": "#FFD700",
    "sidebar_border": "#EEEEEE",
    "wrapper_background": "#FFFFFF"
   },
   "moveMenuLeft": true,
   "nav_menu": {
    "height": "272px",
    "width": "253px"
   },
   "navigate_menu": true,
   "number_sections": false,
   "sideBar": true,
   "threshold": 4,
   "toc_cell": true,
   "toc_section_display": "block",
   "toc_window_display": true,
   "widenNotebook": false
  }
 },
 "nbformat": 4,
 "nbformat_minor": 1
}
